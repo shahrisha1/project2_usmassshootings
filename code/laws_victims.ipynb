{
 "cells": [
  {
   "cell_type": "code",
   "execution_count": 4,
   "metadata": {
    "collapsed": true
   },
   "outputs": [],
   "source": [
    "#import dependencies\n",
    "import pandas as pd\n",
    "import numpy\n",
    "# import numpy as np\n",
    "import seaborn as sns\n",
    "import warnings\n",
    "from geopy.geocoders import Nominatim #for going from loctaion to coordinates (lan/lon)\n",
    "from geopy.exc import GeocoderTimedOut\n",
    "import json"
   ]
  },
  {
   "cell_type": "code",
   "execution_count": 5,
   "metadata": {},
   "outputs": [
    {
     "data": {
      "text/html": [
       "<div>\n",
       "<style>\n",
       "    .dataframe thead tr:only-child th {\n",
       "        text-align: right;\n",
       "    }\n",
       "\n",
       "    .dataframe thead th {\n",
       "        text-align: left;\n",
       "    }\n",
       "\n",
       "    .dataframe tbody tr th {\n",
       "        vertical-align: top;\n",
       "    }\n",
       "</style>\n",
       "<table border=\"1\" class=\"dataframe\">\n",
       "  <thead>\n",
       "    <tr style=\"text-align: right;\">\n",
       "      <th></th>\n",
       "      <th>state</th>\n",
       "      <th>laws</th>\n",
       "      <th>totalVictims</th>\n",
       "    </tr>\n",
       "  </thead>\n",
       "  <tbody>\n",
       "    <tr>\n",
       "      <th>0</th>\n",
       "      <td>Arizona</td>\n",
       "      <td>11</td>\n",
       "      <td>19</td>\n",
       "    </tr>\n",
       "    <tr>\n",
       "      <th>1</th>\n",
       "      <td>Arkansas</td>\n",
       "      <td>11</td>\n",
       "      <td>15</td>\n",
       "    </tr>\n",
       "    <tr>\n",
       "      <th>2</th>\n",
       "      <td>California</td>\n",
       "      <td>104</td>\n",
       "      <td>245</td>\n",
       "    </tr>\n",
       "    <tr>\n",
       "      <th>3</th>\n",
       "      <td>Colorado</td>\n",
       "      <td>30</td>\n",
       "      <td>142</td>\n",
       "    </tr>\n",
       "    <tr>\n",
       "      <th>4</th>\n",
       "      <td>Connecticut</td>\n",
       "      <td>89</td>\n",
       "      <td>46</td>\n",
       "    </tr>\n",
       "  </tbody>\n",
       "</table>\n",
       "</div>"
      ],
      "text/plain": [
       "         state  laws  totalVictims\n",
       "0      Arizona    11            19\n",
       "1     Arkansas    11            15\n",
       "2   California   104           245\n",
       "3     Colorado    30           142\n",
       "4  Connecticut    89            46"
      ]
     },
     "execution_count": 5,
     "metadata": {},
     "output_type": "execute_result"
    }
   ],
   "source": [
    "laws_victims_df = pd.read_csv('data.csv', encoding='latin-1')\n",
    "laws_victims_df.head()"
   ]
  },
  {
   "cell_type": "code",
   "execution_count": 7,
   "metadata": {},
   "outputs": [
    {
     "data": {
      "text/plain": [
       "['Arizona',\n",
       " 'Arkansas',\n",
       " 'California',\n",
       " 'Colorado',\n",
       " 'Connecticut',\n",
       " 'Florida',\n",
       " 'Georgia',\n",
       " 'Hawaii',\n",
       " 'Illinois',\n",
       " 'Iowa',\n",
       " 'Kansas',\n",
       " 'Kentucky',\n",
       " 'Louisiana',\n",
       " 'Maryland',\n",
       " 'Massachusetts',\n",
       " 'Michigan',\n",
       " 'Minnesota',\n",
       " 'Mississippi',\n",
       " 'Missouri',\n",
       " 'Nebraska',\n",
       " 'Nevada',\n",
       " 'NewYork',\n",
       " 'NorthCarolina',\n",
       " 'Ohio',\n",
       " 'Oklahoma',\n",
       " 'Oregon',\n",
       " 'Pennsylvania',\n",
       " 'SouthCarolina',\n",
       " 'Tennessee',\n",
       " 'Texas',\n",
       " 'Utah',\n",
       " 'Virginia',\n",
       " 'Washington',\n",
       " 'Wisconsin']"
      ]
     },
     "execution_count": 7,
     "metadata": {},
     "output_type": "execute_result"
    }
   ],
   "source": [
    "state=list(laws_victims_df['state'])"
   ]
  },
  {
   "cell_type": "code",
   "execution_count": 8,
   "metadata": {
    "collapsed": true
   },
   "outputs": [],
   "source": [
    "laws=list(laws_victims_df['laws'])"
   ]
  },
  {
   "cell_type": "code",
   "execution_count": 9,
   "metadata": {
    "collapsed": true
   },
   "outputs": [],
   "source": [
    "victims=list(laws_victims_df['totalVictims'])"
   ]
  },
  {
   "cell_type": "code",
   "execution_count": 10,
   "metadata": {},
   "outputs": [
    {
     "data": {
      "text/plain": [
       "[11,\n",
       " 11,\n",
       " 104,\n",
       " 30,\n",
       " 89,\n",
       " 21,\n",
       " 6,\n",
       " 78,\n",
       " 64,\n",
       " 25,\n",
       " 7,\n",
       " 7,\n",
       " 12,\n",
       " 64,\n",
       " 100,\n",
       " 21,\n",
       " 41,\n",
       " 5,\n",
       " 7,\n",
       " 22,\n",
       " 15,\n",
       " 75,\n",
       " 30,\n",
       " 16,\n",
       " 9,\n",
       " 35,\n",
       " 36,\n",
       " 12,\n",
       " 22,\n",
       " 18,\n",
       " 11,\n",
       " 13,\n",
       " 43,\n",
       " 23]"
      ]
     },
     "execution_count": 10,
     "metadata": {},
     "output_type": "execute_result"
    }
   ],
   "source": [
    "laws"
   ]
  },
  {
   "cell_type": "code",
   "execution_count": 11,
   "metadata": {},
   "outputs": [
    {
     "data": {
      "text/plain": [
       "[19,\n",
       " 15,\n",
       " 245,\n",
       " 142,\n",
       " 46,\n",
       " 216,\n",
       " 27,\n",
       " 7,\n",
       " 35,\n",
       " 7,\n",
       " 17,\n",
       " 28,\n",
       " 6,\n",
       " 6,\n",
       " 7,\n",
       " 18,\n",
       " 23,\n",
       " 15,\n",
       " 8,\n",
       " 13,\n",
       " 770,\n",
       " 55,\n",
       " 23,\n",
       " 15,\n",
       " 21,\n",
       " 47,\n",
       " 19,\n",
       " 17,\n",
       " 7,\n",
       " 192,\n",
       " 10,\n",
       " 55,\n",
       " 65,\n",
       " 32]"
      ]
     },
     "execution_count": 11,
     "metadata": {},
     "output_type": "execute_result"
    }
   ],
   "source": [
    "victims"
   ]
  },
  {
   "cell_type": "code",
   "execution_count": 17,
   "metadata": {},
   "outputs": [],
   "source": [
    "laws=list(map(float, laws))"
   ]
  },
  {
   "cell_type": "code",
   "execution_count": 18,
   "metadata": {},
   "outputs": [
    {
     "data": {
      "text/plain": [
       "[11.0,\n",
       " 11.0,\n",
       " 104.0,\n",
       " 30.0,\n",
       " 89.0,\n",
       " 21.0,\n",
       " 6.0,\n",
       " 78.0,\n",
       " 64.0,\n",
       " 25.0,\n",
       " 7.0,\n",
       " 7.0,\n",
       " 12.0,\n",
       " 64.0,\n",
       " 100.0,\n",
       " 21.0,\n",
       " 41.0,\n",
       " 5.0,\n",
       " 7.0,\n",
       " 22.0,\n",
       " 15.0,\n",
       " 75.0,\n",
       " 30.0,\n",
       " 16.0,\n",
       " 9.0,\n",
       " 35.0,\n",
       " 36.0,\n",
       " 12.0,\n",
       " 22.0,\n",
       " 18.0,\n",
       " 11.0,\n",
       " 13.0,\n",
       " 43.0,\n",
       " 23.0]"
      ]
     },
     "execution_count": 18,
     "metadata": {},
     "output_type": "execute_result"
    }
   ],
   "source": [
    "laws"
   ]
  },
  {
   "cell_type": "code",
   "execution_count": null,
   "metadata": {
    "collapsed": true
   },
   "outputs": [],
   "source": []
  }
 ],
 "metadata": {
  "kernelspec": {
   "display_name": "Python 3",
   "language": "python",
   "name": "python3"
  },
  "language_info": {
   "codemirror_mode": {
    "name": "ipython",
    "version": 3
   },
   "file_extension": ".py",
   "mimetype": "text/x-python",
   "name": "python",
   "nbconvert_exporter": "python",
   "pygments_lexer": "ipython3",
   "version": "3.6.3"
  }
 },
 "nbformat": 4,
 "nbformat_minor": 2
}
