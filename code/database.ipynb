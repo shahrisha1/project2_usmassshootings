{
 "cells": [
  {
   "cell_type": "code",
   "execution_count": 1,
   "metadata": {
    "collapsed": true
   },
   "outputs": [],
   "source": [
    "#import dependencies\n",
    "import pandas as pd\n",
    "import numpy as np\n",
    "import warnings\n",
    "from geopy.geocoders import Nominatim #for going from loctaion to coordinates (lan/lon)\n",
    "from geopy.exc import GeocoderTimedOut"
   ]
  },
  {
   "cell_type": "markdown",
   "metadata": {},
   "source": [
    "# Data Cleaning"
   ]
  },
  {
   "cell_type": "code",
   "execution_count": 2,
   "metadata": {},
   "outputs": [
    {
     "data": {
      "text/html": [
       "<div>\n",
       "<style>\n",
       "    .dataframe thead tr:only-child th {\n",
       "        text-align: right;\n",
       "    }\n",
       "\n",
       "    .dataframe thead th {\n",
       "        text-align: left;\n",
       "    }\n",
       "\n",
       "    .dataframe tbody tr th {\n",
       "        vertical-align: top;\n",
       "    }\n",
       "</style>\n",
       "<table border=\"1\" class=\"dataframe\">\n",
       "  <thead>\n",
       "    <tr style=\"text-align: right;\">\n",
       "      <th></th>\n",
       "      <th>case</th>\n",
       "      <th>location</th>\n",
       "      <th>date</th>\n",
       "      <th>year</th>\n",
       "      <th>summary</th>\n",
       "      <th>fatalities</th>\n",
       "      <th>injured</th>\n",
       "      <th>total_victims</th>\n",
       "      <th>venue</th>\n",
       "      <th>prior_signs_mental_health</th>\n",
       "      <th>...</th>\n",
       "      <th>weapon_details</th>\n",
       "      <th>race</th>\n",
       "      <th>gender</th>\n",
       "      <th>sources</th>\n",
       "      <th>mental_health_sources</th>\n",
       "      <th>latitude</th>\n",
       "      <th>longitude</th>\n",
       "      <th>shooting_type</th>\n",
       "      <th>city</th>\n",
       "      <th>state</th>\n",
       "    </tr>\n",
       "  </thead>\n",
       "  <tbody>\n",
       "    <tr>\n",
       "      <th>0</th>\n",
       "      <td>Yountville veterans home shooting</td>\n",
       "      <td>Yountville, CA</td>\n",
       "      <td>3/9/18</td>\n",
       "      <td>2018</td>\n",
       "      <td>Army veteran Albert Cheung Wong, 36, stormed a...</td>\n",
       "      <td>3</td>\n",
       "      <td>0</td>\n",
       "      <td>3</td>\n",
       "      <td>Workplace</td>\n",
       "      <td>Yes</td>\n",
       "      <td>...</td>\n",
       "      <td>NaN</td>\n",
       "      <td>Asian</td>\n",
       "      <td>Male</td>\n",
       "      <td>https://www.cnn.com/2018/03/10/us/california-v...</td>\n",
       "      <td>https://www.cnn.com/2018/03/10/us/california-v...</td>\n",
       "      <td>38.395445</td>\n",
       "      <td>-122.360173</td>\n",
       "      <td>Mass</td>\n",
       "      <td>Yountville</td>\n",
       "      <td>California</td>\n",
       "    </tr>\n",
       "    <tr>\n",
       "      <th>1</th>\n",
       "      <td>Stoneman Douglas High School shooting</td>\n",
       "      <td>Parkland, Florida</td>\n",
       "      <td>2/14/18</td>\n",
       "      <td>2018</td>\n",
       "      <td>Nikolas J. Cruz, 19, heavily armed with an AR-...</td>\n",
       "      <td>17</td>\n",
       "      <td>14</td>\n",
       "      <td>31</td>\n",
       "      <td>School</td>\n",
       "      <td>Yes</td>\n",
       "      <td>...</td>\n",
       "      <td>AR-15</td>\n",
       "      <td>White</td>\n",
       "      <td>Male</td>\n",
       "      <td>https://www.nytimes.com/2018/02/14/us/parkland...</td>\n",
       "      <td>https://www.nytimes.com/2018/02/15/us/nikolas-...</td>\n",
       "      <td>26.310079</td>\n",
       "      <td>-80.237270</td>\n",
       "      <td>Mass</td>\n",
       "      <td>Parkland</td>\n",
       "      <td>Florida</td>\n",
       "    </tr>\n",
       "    <tr>\n",
       "      <th>2</th>\n",
       "      <td>Pennsylvania carwash shooting</td>\n",
       "      <td>Melcroft, PA</td>\n",
       "      <td>1/28/18</td>\n",
       "      <td>2018</td>\n",
       "      <td>Timothy O'Brien Smith, 28, wearing body armor ...</td>\n",
       "      <td>4</td>\n",
       "      <td>1</td>\n",
       "      <td>5</td>\n",
       "      <td>Other</td>\n",
       "      <td>Unknown</td>\n",
       "      <td>...</td>\n",
       "      <td>NaN</td>\n",
       "      <td>White</td>\n",
       "      <td>Male</td>\n",
       "      <td>http://www.wpxi.com/news/top-stories/family-me...</td>\n",
       "      <td>NaN</td>\n",
       "      <td>40.052018</td>\n",
       "      <td>-79.389202</td>\n",
       "      <td>Mass</td>\n",
       "      <td>Melcroft</td>\n",
       "      <td>Pennsylvania</td>\n",
       "    </tr>\n",
       "    <tr>\n",
       "      <th>3</th>\n",
       "      <td>Rancho Tehama shooting spree</td>\n",
       "      <td>Rancho Tehama, CA</td>\n",
       "      <td>11/14/17</td>\n",
       "      <td>2017</td>\n",
       "      <td>Kevin Janson Neal, 44, went on an approximatel...</td>\n",
       "      <td>5</td>\n",
       "      <td>10</td>\n",
       "      <td>15</td>\n",
       "      <td>Other</td>\n",
       "      <td>Unknown</td>\n",
       "      <td>...</td>\n",
       "      <td>Two illegally modified rifles</td>\n",
       "      <td>White</td>\n",
       "      <td>Male</td>\n",
       "      <td>https://www.nbcnews.com/news/us-news/californi...</td>\n",
       "      <td>NaN</td>\n",
       "      <td>39.993786</td>\n",
       "      <td>-122.471880</td>\n",
       "      <td>Spree</td>\n",
       "      <td>Rancho Tehama</td>\n",
       "      <td>California</td>\n",
       "    </tr>\n",
       "    <tr>\n",
       "      <th>4</th>\n",
       "      <td>Texas First Baptist Church massacre</td>\n",
       "      <td>Sutherland Springs, TX</td>\n",
       "      <td>11/5/17</td>\n",
       "      <td>2017</td>\n",
       "      <td>Devin Patrick Kelley, a 26-year-old ex-US Air ...</td>\n",
       "      <td>26</td>\n",
       "      <td>20</td>\n",
       "      <td>46</td>\n",
       "      <td>Religious</td>\n",
       "      <td>Yes</td>\n",
       "      <td>...</td>\n",
       "      <td>Ruger AR-556; Kelley also possessed semiautoma...</td>\n",
       "      <td>White</td>\n",
       "      <td>Male</td>\n",
       "      <td>https://www.washingtonpost.com/news/morning-mi...</td>\n",
       "      <td>http://www.expressnews.com/news/local/article/...</td>\n",
       "      <td>29.274044</td>\n",
       "      <td>-98.055906</td>\n",
       "      <td>Mass</td>\n",
       "      <td>Sutherland Springs</td>\n",
       "      <td>Texas</td>\n",
       "    </tr>\n",
       "  </tbody>\n",
       "</table>\n",
       "<p>5 rows × 24 columns</p>\n",
       "</div>"
      ],
      "text/plain": [
       "                                    case                location      date  \\\n",
       "0      Yountville veterans home shooting          Yountville, CA    3/9/18   \n",
       "1  Stoneman Douglas High School shooting       Parkland, Florida   2/14/18   \n",
       "2          Pennsylvania carwash shooting            Melcroft, PA   1/28/18   \n",
       "3           Rancho Tehama shooting spree       Rancho Tehama, CA  11/14/17   \n",
       "4    Texas First Baptist Church massacre  Sutherland Springs, TX   11/5/17   \n",
       "\n",
       "   year                                            summary  fatalities  \\\n",
       "0  2018  Army veteran Albert Cheung Wong, 36, stormed a...           3   \n",
       "1  2018  Nikolas J. Cruz, 19, heavily armed with an AR-...          17   \n",
       "2  2018  Timothy O'Brien Smith, 28, wearing body armor ...           4   \n",
       "3  2017  Kevin Janson Neal, 44, went on an approximatel...           5   \n",
       "4  2017  Devin Patrick Kelley, a 26-year-old ex-US Air ...          26   \n",
       "\n",
       "   injured  total_victims      venue prior_signs_mental_health      ...        \\\n",
       "0        0              3  Workplace                       Yes      ...         \n",
       "1       14             31     School                       Yes      ...         \n",
       "2        1              5      Other                   Unknown      ...         \n",
       "3       10             15      Other                   Unknown      ...         \n",
       "4       20             46  Religious                       Yes      ...         \n",
       "\n",
       "                                      weapon_details   race gender  \\\n",
       "0                                                NaN  Asian   Male   \n",
       "1                                              AR-15  White   Male   \n",
       "2                                                NaN  White   Male   \n",
       "3                      Two illegally modified rifles  White   Male   \n",
       "4  Ruger AR-556; Kelley also possessed semiautoma...  White   Male   \n",
       "\n",
       "                                             sources  \\\n",
       "0  https://www.cnn.com/2018/03/10/us/california-v...   \n",
       "1  https://www.nytimes.com/2018/02/14/us/parkland...   \n",
       "2  http://www.wpxi.com/news/top-stories/family-me...   \n",
       "3  https://www.nbcnews.com/news/us-news/californi...   \n",
       "4  https://www.washingtonpost.com/news/morning-mi...   \n",
       "\n",
       "                               mental_health_sources   latitude   longitude  \\\n",
       "0  https://www.cnn.com/2018/03/10/us/california-v...  38.395445 -122.360173   \n",
       "1  https://www.nytimes.com/2018/02/15/us/nikolas-...  26.310079  -80.237270   \n",
       "2                                                NaN  40.052018  -79.389202   \n",
       "3                                                NaN  39.993786 -122.471880   \n",
       "4  http://www.expressnews.com/news/local/article/...  29.274044  -98.055906   \n",
       "\n",
       "  shooting_type                city          state  \n",
       "0          Mass          Yountville     California  \n",
       "1          Mass            Parkland        Florida  \n",
       "2          Mass            Melcroft   Pennsylvania  \n",
       "3         Spree       Rancho Tehama     California  \n",
       "4          Mass  Sutherland Springs          Texas  \n",
       "\n",
       "[5 rows x 24 columns]"
      ]
     },
     "execution_count": 2,
     "metadata": {},
     "output_type": "execute_result"
    }
   ],
   "source": [
    "#reading the csv file into a dataframe \n",
    "shootings_df = pd.read_csv('clean_shooting.csv', encoding='latin-1')\n",
    "shootings_df.head()"
   ]
  },
  {
   "cell_type": "code",
   "execution_count": null,
   "metadata": {},
   "outputs": [],
   "source": [
    "# #testing for Geopy to retrieve (latitude , longitude) based on the \"Location\" field of the dataframe \n",
    "# test_address = \"Sutherland Springs, TX\"\n",
    "# geolocator=Nominatim(timeout=10)\n",
    "\n",
    "# try:\n",
    "#     location = geolocator.geocode(test_address)\n",
    "#     print((location.latitude, location.longitude))\n",
    "# except GeocoderTimedOut as e:\n",
    "#     print(\"Error: geocode failed on input %s with message %s\"%(test_address, e.message))"
   ]
  },
  {
   "cell_type": "code",
   "execution_count": 3,
   "metadata": {},
   "outputs": [
    {
     "data": {
      "text/html": [
       "<div>\n",
       "<style>\n",
       "    .dataframe thead tr:only-child th {\n",
       "        text-align: right;\n",
       "    }\n",
       "\n",
       "    .dataframe thead th {\n",
       "        text-align: left;\n",
       "    }\n",
       "\n",
       "    .dataframe tbody tr th {\n",
       "        vertical-align: top;\n",
       "    }\n",
       "</style>\n",
       "<table border=\"1\" class=\"dataframe\">\n",
       "  <thead>\n",
       "    <tr style=\"text-align: right;\">\n",
       "      <th></th>\n",
       "      <th>case</th>\n",
       "      <th>location</th>\n",
       "      <th>date</th>\n",
       "      <th>year</th>\n",
       "      <th>summary</th>\n",
       "      <th>fatalities</th>\n",
       "      <th>injured</th>\n",
       "      <th>total_victims</th>\n",
       "      <th>venue</th>\n",
       "      <th>prior_signs_mental_health</th>\n",
       "      <th>...</th>\n",
       "      <th>weapon_details</th>\n",
       "      <th>race</th>\n",
       "      <th>gender</th>\n",
       "      <th>sources</th>\n",
       "      <th>mental_health_sources</th>\n",
       "      <th>latitude</th>\n",
       "      <th>longitude</th>\n",
       "      <th>shooting_type</th>\n",
       "      <th>city</th>\n",
       "      <th>state</th>\n",
       "    </tr>\n",
       "  </thead>\n",
       "  <tbody>\n",
       "    <tr>\n",
       "      <th>0</th>\n",
       "      <td>Yountville veterans home shooting</td>\n",
       "      <td>Yountville, CA</td>\n",
       "      <td>3/9/18</td>\n",
       "      <td>2018</td>\n",
       "      <td>Army veteran Albert Cheung Wong, 36, stormed a...</td>\n",
       "      <td>3</td>\n",
       "      <td>0</td>\n",
       "      <td>3</td>\n",
       "      <td>Workplace</td>\n",
       "      <td>Yes</td>\n",
       "      <td>...</td>\n",
       "      <td>NaN</td>\n",
       "      <td>Asian</td>\n",
       "      <td>Male</td>\n",
       "      <td>https://www.cnn.com/2018/03/10/us/california-v...</td>\n",
       "      <td>https://www.cnn.com/2018/03/10/us/california-v...</td>\n",
       "      <td>38.395445</td>\n",
       "      <td>-122.360173</td>\n",
       "      <td>Mass</td>\n",
       "      <td>Yountville</td>\n",
       "      <td>California</td>\n",
       "    </tr>\n",
       "    <tr>\n",
       "      <th>1</th>\n",
       "      <td>Stoneman Douglas High School shooting</td>\n",
       "      <td>Parkland, Florida</td>\n",
       "      <td>2/14/18</td>\n",
       "      <td>2018</td>\n",
       "      <td>Nikolas J. Cruz, 19, heavily armed with an AR-...</td>\n",
       "      <td>17</td>\n",
       "      <td>14</td>\n",
       "      <td>31</td>\n",
       "      <td>School</td>\n",
       "      <td>Yes</td>\n",
       "      <td>...</td>\n",
       "      <td>AR-15</td>\n",
       "      <td>White</td>\n",
       "      <td>Male</td>\n",
       "      <td>https://www.nytimes.com/2018/02/14/us/parkland...</td>\n",
       "      <td>https://www.nytimes.com/2018/02/15/us/nikolas-...</td>\n",
       "      <td>26.310079</td>\n",
       "      <td>-80.237270</td>\n",
       "      <td>Mass</td>\n",
       "      <td>Parkland</td>\n",
       "      <td>Florida</td>\n",
       "    </tr>\n",
       "    <tr>\n",
       "      <th>2</th>\n",
       "      <td>Pennsylvania carwash shooting</td>\n",
       "      <td>Melcroft, PA</td>\n",
       "      <td>1/28/18</td>\n",
       "      <td>2018</td>\n",
       "      <td>Timothy O'Brien Smith, 28, wearing body armor ...</td>\n",
       "      <td>4</td>\n",
       "      <td>1</td>\n",
       "      <td>5</td>\n",
       "      <td>Other</td>\n",
       "      <td>Unknown</td>\n",
       "      <td>...</td>\n",
       "      <td>NaN</td>\n",
       "      <td>White</td>\n",
       "      <td>Male</td>\n",
       "      <td>http://www.wpxi.com/news/top-stories/family-me...</td>\n",
       "      <td>NaN</td>\n",
       "      <td>40.052018</td>\n",
       "      <td>-79.389202</td>\n",
       "      <td>Mass</td>\n",
       "      <td>Melcroft</td>\n",
       "      <td>Pennsylvania</td>\n",
       "    </tr>\n",
       "    <tr>\n",
       "      <th>3</th>\n",
       "      <td>Rancho Tehama shooting spree</td>\n",
       "      <td>Rancho Tehama, CA</td>\n",
       "      <td>11/14/17</td>\n",
       "      <td>2017</td>\n",
       "      <td>Kevin Janson Neal, 44, went on an approximatel...</td>\n",
       "      <td>5</td>\n",
       "      <td>10</td>\n",
       "      <td>15</td>\n",
       "      <td>Other</td>\n",
       "      <td>Unknown</td>\n",
       "      <td>...</td>\n",
       "      <td>Two illegally modified rifles</td>\n",
       "      <td>White</td>\n",
       "      <td>Male</td>\n",
       "      <td>https://www.nbcnews.com/news/us-news/californi...</td>\n",
       "      <td>NaN</td>\n",
       "      <td>39.993786</td>\n",
       "      <td>-122.471880</td>\n",
       "      <td>Spree</td>\n",
       "      <td>Rancho Tehama</td>\n",
       "      <td>California</td>\n",
       "    </tr>\n",
       "    <tr>\n",
       "      <th>4</th>\n",
       "      <td>Texas First Baptist Church massacre</td>\n",
       "      <td>Sutherland Springs, TX</td>\n",
       "      <td>11/5/17</td>\n",
       "      <td>2017</td>\n",
       "      <td>Devin Patrick Kelley, a 26-year-old ex-US Air ...</td>\n",
       "      <td>26</td>\n",
       "      <td>20</td>\n",
       "      <td>46</td>\n",
       "      <td>Religious</td>\n",
       "      <td>Yes</td>\n",
       "      <td>...</td>\n",
       "      <td>Ruger AR-556; Kelley also possessed semiautoma...</td>\n",
       "      <td>White</td>\n",
       "      <td>Male</td>\n",
       "      <td>https://www.washingtonpost.com/news/morning-mi...</td>\n",
       "      <td>http://www.expressnews.com/news/local/article/...</td>\n",
       "      <td>29.274044</td>\n",
       "      <td>-98.055906</td>\n",
       "      <td>Mass</td>\n",
       "      <td>Sutherland Springs</td>\n",
       "      <td>Texas</td>\n",
       "    </tr>\n",
       "  </tbody>\n",
       "</table>\n",
       "<p>5 rows × 24 columns</p>\n",
       "</div>"
      ],
      "text/plain": [
       "                                    case                location      date  \\\n",
       "0      Yountville veterans home shooting          Yountville, CA    3/9/18   \n",
       "1  Stoneman Douglas High School shooting       Parkland, Florida   2/14/18   \n",
       "2          Pennsylvania carwash shooting            Melcroft, PA   1/28/18   \n",
       "3           Rancho Tehama shooting spree       Rancho Tehama, CA  11/14/17   \n",
       "4    Texas First Baptist Church massacre  Sutherland Springs, TX   11/5/17   \n",
       "\n",
       "   year                                            summary  fatalities  \\\n",
       "0  2018  Army veteran Albert Cheung Wong, 36, stormed a...           3   \n",
       "1  2018  Nikolas J. Cruz, 19, heavily armed with an AR-...          17   \n",
       "2  2018  Timothy O'Brien Smith, 28, wearing body armor ...           4   \n",
       "3  2017  Kevin Janson Neal, 44, went on an approximatel...           5   \n",
       "4  2017  Devin Patrick Kelley, a 26-year-old ex-US Air ...          26   \n",
       "\n",
       "   injured  total_victims      venue prior_signs_mental_health      ...        \\\n",
       "0        0              3  Workplace                       Yes      ...         \n",
       "1       14             31     School                       Yes      ...         \n",
       "2        1              5      Other                   Unknown      ...         \n",
       "3       10             15      Other                   Unknown      ...         \n",
       "4       20             46  Religious                       Yes      ...         \n",
       "\n",
       "                                      weapon_details   race gender  \\\n",
       "0                                                NaN  Asian   Male   \n",
       "1                                              AR-15  White   Male   \n",
       "2                                                NaN  White   Male   \n",
       "3                      Two illegally modified rifles  White   Male   \n",
       "4  Ruger AR-556; Kelley also possessed semiautoma...  White   Male   \n",
       "\n",
       "                                             sources  \\\n",
       "0  https://www.cnn.com/2018/03/10/us/california-v...   \n",
       "1  https://www.nytimes.com/2018/02/14/us/parkland...   \n",
       "2  http://www.wpxi.com/news/top-stories/family-me...   \n",
       "3  https://www.nbcnews.com/news/us-news/californi...   \n",
       "4  https://www.washingtonpost.com/news/morning-mi...   \n",
       "\n",
       "                               mental_health_sources   latitude   longitude  \\\n",
       "0  https://www.cnn.com/2018/03/10/us/california-v...  38.395445 -122.360173   \n",
       "1  https://www.nytimes.com/2018/02/15/us/nikolas-...  26.310079  -80.237270   \n",
       "2                                                NaN  40.052018  -79.389202   \n",
       "3                                                NaN  39.993786 -122.471880   \n",
       "4  http://www.expressnews.com/news/local/article/...  29.274044  -98.055906   \n",
       "\n",
       "  shooting_type                city          state  \n",
       "0          Mass          Yountville     California  \n",
       "1          Mass            Parkland        Florida  \n",
       "2          Mass            Melcroft   Pennsylvania  \n",
       "3         Spree       Rancho Tehama     California  \n",
       "4          Mass  Sutherland Springs          Texas  \n",
       "\n",
       "[5 rows x 24 columns]"
      ]
     },
     "execution_count": 3,
     "metadata": {},
     "output_type": "execute_result"
    }
   ],
   "source": [
    "# adding redults to another dataframe so that there is no confusion when referencing for Database creation \n",
    "complete_shootings_df = shootings_df\n",
    "complete_shootings_df.head()      "
   ]
  },
  {
   "cell_type": "code",
   "execution_count": null,
   "metadata": {},
   "outputs": [],
   "source": [
    "# list of all column headers\n",
    "list(complete_shootings_df)"
   ]
  },
  {
   "cell_type": "code",
   "execution_count": null,
   "metadata": {},
   "outputs": [],
   "source": [
    "# #rename column headers so that there are no spaces & better usability\n",
    "\n",
    "# complete_shootings_df = complete_shootings_df.rename(columns={'Case': 'case', \n",
    "#                                         'Location': 'location', \n",
    "#                                         'Date': 'date', \n",
    "#                                         'Year': 'year', \n",
    "#                                         'Summary': 'summary', \n",
    "#                                         'Fatalities': 'fatalities', \n",
    "#                                         'Injured': 'injured', \n",
    "#                                         'Total victims': 'total_victims', \n",
    "#                                         'Venue': 'venue', \n",
    "#                                         'Prior signs of mental health issues': 'prior_signs_mental_health', \n",
    "#                                         'Mental health - details': 'mental_health', \n",
    "#                                         'Weapons obtained legally': 'weapons_obtained_legally', \n",
    "#                                         'Where obtained': 'where_obtained',\n",
    "#                                         'Type of weapons': 'type_weapon', \n",
    "#                                         'Weapon details': 'weapon_details', \n",
    "#                                         'Race': 'race', \n",
    "#                                         'Gender': 'gender', \n",
    "#                                         'Sources': 'sources', \n",
    "#                                         'Mental Health Sources': 'mental_health_sources', \n",
    "#                                         'Type': 'shooting_type'})\n",
    "\n",
    "# complete_shootings_df.head()"
   ]
  },
  {
   "cell_type": "code",
   "execution_count": null,
   "metadata": {},
   "outputs": [],
   "source": [
    "# # recheck column headers\n",
    "# complete_shootings_df.info()"
   ]
  },
  {
   "cell_type": "code",
   "execution_count": null,
   "metadata": {},
   "outputs": [],
   "source": [
    "# #update the new dataframe with city/state split from location\n",
    "# complete_shootings_df[['city', 'state']] = complete_shootings_df.location.str.split(',', expand = True)\n",
    "# complete_shootings_df.head()"
   ]
  },
  {
   "cell_type": "code",
   "execution_count": 4,
   "metadata": {},
   "outputs": [
    {
     "data": {
      "text/plain": [
       "['case',\n",
       " 'location',\n",
       " 'date',\n",
       " 'year',\n",
       " 'summary',\n",
       " 'fatalities',\n",
       " 'injured',\n",
       " 'total_victims',\n",
       " 'venue',\n",
       " 'prior_signs_mental_health',\n",
       " 'mental_health',\n",
       " 'weapons_obtained_legally',\n",
       " 'where_obtained',\n",
       " 'type_weapon',\n",
       " 'weapon_details',\n",
       " 'race',\n",
       " 'gender',\n",
       " 'sources',\n",
       " 'mental_health_sources',\n",
       " 'latitude',\n",
       " 'longitude',\n",
       " 'shooting_type',\n",
       " 'city',\n",
       " 'state']"
      ]
     },
     "execution_count": 4,
     "metadata": {},
     "output_type": "execute_result"
    }
   ],
   "source": [
    "list(complete_shootings_df)"
   ]
  },
  {
   "cell_type": "code",
   "execution_count": null,
   "metadata": {},
   "outputs": [],
   "source": [
    "# complete_shootings_df.state.value_counts()"
   ]
  },
  {
   "cell_type": "code",
   "execution_count": null,
   "metadata": {},
   "outputs": [],
   "source": [
    "# # Condense all \"White\"\n",
    "# complete_shootings_df.state = complete_shootings_df.state.apply(lambda x: x.replace('CA', 'California'))\n",
    "# complete_shootings_df.state = complete_shootings_df.state.apply(lambda x: x.replace('PA', 'Pennsylvania'))\n",
    "# complete_shootings_df.state = complete_shootings_df.state.apply(lambda x: x.replace('D.C.', 'Washington D.C.'))\n",
    "# complete_shootings_df.state = complete_shootings_df.state.apply(lambda x: x.replace('TX', 'Texas'))\n",
    "# complete_shootings_df.state = complete_shootings_df.state.apply(lambda x: x.replace('LA', 'Louisiana'))\n",
    "# complete_shootings_df.state = complete_shootings_df.state.apply(lambda x: x.replace('WA', 'Washington'))\n",
    "# complete_shootings_df.state = complete_shootings_df.state.apply(lambda x: x.replace('NV', 'Nevada'))\n",
    "# complete_shootings_df.state = complete_shootings_df.state.apply(lambda x: x.replace('MD', 'Maryland'))\n",
    "# complete_shootings_df.state = complete_shootings_df.state.apply(lambda x: x.replace('CO', 'Colorado'))\n",
    "\n",
    "# # print\n",
    "# complete_shootings_df.state.value_counts()\n"
   ]
  },
  {
   "cell_type": "code",
   "execution_count": null,
   "metadata": {},
   "outputs": [],
   "source": [
    "# #clean up dataframe columns\n",
    "# complete_shootings_df.race.value_counts()"
   ]
  },
  {
   "cell_type": "code",
   "execution_count": 5,
   "metadata": {},
   "outputs": [
    {
     "data": {
      "text/plain": [
       "White              56\n",
       "Black              16\n",
       "Asian               8\n",
       "Latino              7\n",
       "Other               5\n",
       "Native American     3\n",
       "Unknown             1\n",
       "Name: race, dtype: int64"
      ]
     },
     "execution_count": 5,
     "metadata": {},
     "output_type": "execute_result"
    }
   ],
   "source": [
    "# complete_shootings_df['race'].replace(['white', 'black', 'unclear'], \n",
    "#                                       ['White', 'Black', 'Unknown'], inplace=True)\n",
    "\n",
    "\n",
    "# complete_shootings_df.race.value_counts()"
   ]
  },
  {
   "cell_type": "code",
   "execution_count": null,
   "metadata": {},
   "outputs": [],
   "source": [
    "# complete_shootings_df.gender.value_counts()"
   ]
  },
  {
   "cell_type": "code",
   "execution_count": null,
   "metadata": {},
   "outputs": [],
   "source": [
    "# complete_shootings_df['gender'].replace(['M'], \n",
    "#                                       ['Male'], inplace=True)\n",
    "\n",
    "# complete_shootings_df.gender.value_counts()"
   ]
  },
  {
   "cell_type": "code",
   "execution_count": null,
   "metadata": {},
   "outputs": [],
   "source": [
    "# complete_shootings_df.venue.value_counts()"
   ]
  },
  {
   "cell_type": "code",
   "execution_count": null,
   "metadata": {},
   "outputs": [],
   "source": [
    "# complete_shootings_df['venue'].replace(['Other\\r', '\\rWorkplace'], \n",
    "#                                       ['Other', 'Workplace'], inplace=True)\n",
    "\n",
    "# complete_shootings_df.venue.value_counts()"
   ]
  },
  {
   "cell_type": "code",
   "execution_count": null,
   "metadata": {},
   "outputs": [],
   "source": [
    "# complete_shootings_df.prior_signs_mental_health.value_counts()"
   ]
  },
  {
   "cell_type": "code",
   "execution_count": null,
   "metadata": {},
   "outputs": [],
   "source": [
    "complete_shootings_df['prior_signs_mental_health'].replace(['TBD','Unclear'], \n",
    "                                      ['Unknown','Unknown'], inplace=True)\n",
    "\n",
    "\n",
    "complete_shootings_df.prior_signs_mental_health.value_counts()"
   ]
  },
  {
   "cell_type": "code",
   "execution_count": null,
   "metadata": {},
   "outputs": [],
   "source": [
    "complete_shootings_df.weapons_obtained_legally.value_counts()"
   ]
  },
  {
   "cell_type": "code",
   "execution_count": null,
   "metadata": {},
   "outputs": [],
   "source": [
    "\n",
    "complete_shootings_df['weapons_obtained_legally'].replace(['TBD', '\\rYes', 'Yes (\"some of the weapons were purchased legally and some of them may not have been\")', 'Kelley passed federal criminal background checks; the US Air Force failed to provide information on his criminal history to the FBI'], \n",
    "                                      ['Unknown','Yes','Yes','Unknown'], inplace=True)\n",
    "\n",
    "\n",
    "complete_shootings_df.weapons_obtained_legally.value_counts()"
   ]
  },
  {
   "cell_type": "code",
   "execution_count": null,
   "metadata": {},
   "outputs": [],
   "source": [
    "complete_shootings_df.total_victims.value_counts()"
   ]
  },
  {
   "cell_type": "code",
   "execution_count": null,
   "metadata": {},
   "outputs": [],
   "source": [
    "complete_shootings_df['total_victims'].replace(['758+','11 (dozens more were reportedly injured in the panic)', '46+'], \n",
    "                                      ['758','11','46'], inplace=True)\n",
    "\n",
    "\n",
    "complete_shootings_df.total_victims.value_counts()"
   ]
  },
  {
   "cell_type": "code",
   "execution_count": null,
   "metadata": {},
   "outputs": [],
   "source": [
    "complete_shootings_df.injured.value_counts()"
   ]
  },
  {
   "cell_type": "code",
   "execution_count": null,
   "metadata": {},
   "outputs": [],
   "source": [
    "complete_shootings_df['injured'].replace(['700+'], \n",
    "                                      ['700'], inplace=True)\n",
    "\n",
    "\n",
    "complete_shootings_df.injured.value_counts()"
   ]
  },
  {
   "cell_type": "code",
   "execution_count": null,
   "metadata": {
    "collapsed": true
   },
   "outputs": [],
   "source": [
    "for col in complete_shootings_df.columns:\n",
    "    try:\n",
    "        str(complete_shootings_df[col].iloc[0])\n",
    "        complete_shootings_df[col] = complete_shootings_df[col].apply(lambda x: x.replace('\\r', ''))\n",
    "    except:\n",
    "        pass"
   ]
  },
  {
   "cell_type": "code",
   "execution_count": null,
   "metadata": {},
   "outputs": [],
   "source": [
    "# Loop through the dataframe to check if the latitude is missing. \n",
    "# If the Latitue is a \"NaN\" then update the (Lat, Lon) data from Geopy\n",
    "for index, row in complete_shootings_df.iterrows():\n",
    "        try:\n",
    "            location = geolocator.geocode(row['location'])\n",
    "            complete_shootings_df.loc[index, 'latitude']= location.latitude\n",
    "            complete_shootings_df.loc[index, 'longitude']= location.longitude\n",
    "        except GeocoderTimedOut as e:\n",
    "            print(\"Error: geocode failed on input %s with message %s\"%(row['Location'], e.message))"
   ]
  },
  {
   "cell_type": "code",
   "execution_count": null,
   "metadata": {},
   "outputs": [],
   "source": [
    "# adding redults to another dataframe so that there is no confusion when referencing for Database creation \n",
    "# Geopy San Francisco Coordinates are incorrect, so we'll update it manually \n",
    "complete_shootings_df.loc[83, 'longitude']= -122.41941550000001\n",
    "complete_shootings_df.loc[83, 'latitude']= 37.7749295\n",
    "complete_shootings_df.loc[8, 'longitude']= -122.41941550000001\n",
    "complete_shootings_df.loc[8, 'latitude']= 37.7749295\n",
    "complete_shootings_df[complete_shootings_df['location'] == 'San Francisco, CA']"
   ]
  },
  {
   "cell_type": "code",
   "execution_count": null,
   "metadata": {},
   "outputs": [],
   "source": [
    "# complete_shootings_df.race.value_counts()\n",
    "complete_shootings_df.head()"
   ]
  },
  {
   "cell_type": "code",
   "execution_count": null,
   "metadata": {
    "collapsed": true
   },
   "outputs": [],
   "source": [
    "complete_shootings_df.to_csv('clean_shooting.csv', index=False)"
   ]
  },
  {
   "cell_type": "code",
   "execution_count": null,
   "metadata": {},
   "outputs": [],
   "source": [
    "pd.read_csv('clean_shooting.csv')"
   ]
  },
  {
   "cell_type": "code",
   "execution_count": null,
   "metadata": {},
   "outputs": [],
   "source": [
    "complete_shootings_df.info()"
   ]
  },
  {
   "cell_type": "markdown",
   "metadata": {
    "collapsed": true
   },
   "source": [
    "# Database Creation"
   ]
  },
  {
   "cell_type": "code",
   "execution_count": null,
   "metadata": {
    "collapsed": true
   },
   "outputs": [],
   "source": [
    "# Python SQL toolkit and Object Relational Mapper\n",
    "import sqlalchemy\n",
    "from sqlalchemy.ext.automap import automap_base\n",
    "from sqlalchemy.ext.declarative import declarative_base\n",
    "from sqlalchemy.orm import Session\n",
    "from sqlalchemy import create_engine, inspect, func\n",
    "from sqlalchemy import Column, Integer, String, Float"
   ]
  },
  {
   "cell_type": "code",
   "execution_count": null,
   "metadata": {
    "collapsed": true
   },
   "outputs": [],
   "source": [
    "Base = declarative_base()"
   ]
  },
  {
   "cell_type": "code",
   "execution_count": null,
   "metadata": {
    "collapsed": true
   },
   "outputs": [],
   "source": [
    "class Shootings(Base):\n",
    "    __tablename__ = \"shootings\"\n",
    "    \n",
    "    id = Column(Integer, primary_key=True)\n",
    "    case = Column(String)                        \n",
    "    location = Column(String)                   \n",
    "    date = Column(String)                         \n",
    "    year = Column(Integer)                                 \n",
    "    summary = Column(Integer)                                \n",
    "    fatalities = Column(Integer)                             \n",
    "    injured = Column(Integer)                               \n",
    "    total_victims = Column(Integer)                         \n",
    "    venue = Column(String)                                \n",
    "    prior_signs_mental_health = Column(String)             \n",
    "    mental_health = Column(String)                         \n",
    "    weapons_obtained_legally = Column(String)           \n",
    "    where_obtained = Column(String)                        \n",
    "    type_weapon = Column(String)                         \n",
    "    weapon_details = Column(String)                    \n",
    "    race = Column(String)                               \n",
    "    gender = Column(String)                              \n",
    "    sources = Column(String)                            \n",
    "    mental_health_sources = Column(String)             \n",
    "    latitude = Column(Float)                            \n",
    "    longitude = Column(Float)                              \n",
    "    shooting_type = Column(String)                        \n",
    "    city = Column(String)                                \n",
    "    state = Column(String)                              \n",
    "    "
   ]
  },
  {
   "cell_type": "code",
   "execution_count": null,
   "metadata": {},
   "outputs": [],
   "source": [
    "# engine = create_engine(\"sqlite:///shootings.sqlite\")\n",
    "# Base.metadata.create_all(engine)\n",
    "Base.metadata.tables"
   ]
  },
  {
   "cell_type": "code",
   "execution_count": null,
   "metadata": {
    "collapsed": true
   },
   "outputs": [],
   "source": [
    "engine = create_engine(\"sqlite:///shootings.sqlite\")"
   ]
  },
  {
   "cell_type": "code",
   "execution_count": null,
   "metadata": {
    "collapsed": true
   },
   "outputs": [],
   "source": [
    "Base.metadata.create_all(engine)"
   ]
  },
  {
   "cell_type": "code",
   "execution_count": null,
   "metadata": {
    "collapsed": true
   },
   "outputs": [],
   "source": [
    "# Create a session\n",
    "session = Session(engine)"
   ]
  },
  {
   "cell_type": "code",
   "execution_count": null,
   "metadata": {},
   "outputs": [],
   "source": [
    "# Create the inspector and connect it to the engine\n",
    "inspector = inspect(engine)\n",
    "# Collect the names of tables within the database\n",
    "inspector.get_table_names()"
   ]
  },
  {
   "cell_type": "code",
   "execution_count": null,
   "metadata": {},
   "outputs": [],
   "source": [
    "# Using the inspector to print the column names within the 'dow' table and its types\n",
    "columns = inspector.get_columns('shootings')\n",
    "for column in columns:\n",
    "    print(column[\"name\"], column[\"type\"])"
   ]
  },
  {
   "cell_type": "code",
   "execution_count": null,
   "metadata": {
    "collapsed": true
   },
   "outputs": [],
   "source": [
    "complete_shootings_df.to_sql('shootings', engine, if_exists='append', index=False)"
   ]
  },
  {
   "cell_type": "code",
   "execution_count": null,
   "metadata": {
    "collapsed": true
   },
   "outputs": [],
   "source": [
    "from sqlalchemy.orm import Session\n",
    "session = Session(bind=engine)"
   ]
  },
  {
   "cell_type": "code",
   "execution_count": null,
   "metadata": {
    "collapsed": true
   },
   "outputs": [],
   "source": [
    "session.commit()\n"
   ]
  },
  {
   "cell_type": "code",
   "execution_count": null,
   "metadata": {},
   "outputs": [],
   "source": [
    "session.query(func.count(Shootings.case)).group_by(Shootings.year).all()"
   ]
  },
  {
   "cell_type": "code",
   "execution_count": null,
   "metadata": {},
   "outputs": [],
   "source": [
    "data = session.query(func.count(Shootings.case).label('case_count'), Shootings.year, func.sum(Shootings.fatalities).label('fatalities') ).group_by(Shootings.year).all()\n",
    "data"
   ]
  },
  {
   "cell_type": "code",
   "execution_count": null,
   "metadata": {
    "collapsed": true
   },
   "outputs": [],
   "source": [
    "data = session.query(func.count(Shootings.case).label('case_count'), Shootings.year, func.sum(Shootings.fatalities).label('fatalities') ).group_by(Shootings.year).all()\n",
    "results = []\n",
    "for row in data:\n",
    "    data_dict = {}\n",
    "    data_dict['year']= row.year\n",
    "    data_dict['case_count'] = row.case_count\n",
    "    data_dict['total_fatalities'] = row.fatalities\n",
    "    results.append(data_dict)"
   ]
  },
  {
   "cell_type": "code",
   "execution_count": null,
   "metadata": {},
   "outputs": [],
   "source": [
    "results"
   ]
  },
  {
   "cell_type": "code",
   "execution_count": null,
   "metadata": {
    "collapsed": true
   },
   "outputs": [],
   "source": []
  },
  {
   "cell_type": "code",
   "execution_count": null,
   "metadata": {
    "collapsed": true
   },
   "outputs": [],
   "source": []
  }
 ],
 "metadata": {
  "kernelspec": {
   "display_name": "Python 3",
   "language": "python",
   "name": "python3"
  },
  "language_info": {
   "codemirror_mode": {
    "name": "ipython",
    "version": 3
   },
   "file_extension": ".py",
   "mimetype": "text/x-python",
   "name": "python",
   "nbconvert_exporter": "python",
   "pygments_lexer": "ipython3",
   "version": "3.6.3"
  }
 },
 "nbformat": 4,
 "nbformat_minor": 2
}
