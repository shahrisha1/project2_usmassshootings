{
 "cells": [
  {
   "cell_type": "code",
   "execution_count": 1,
   "metadata": {
    "collapsed": true
   },
   "outputs": [],
   "source": [
    "import pandas as pd\n",
    "import numpy as np\n",
    "import warnings\n",
    "from geopy.geocoders import Nominatim\n",
    "from geopy.exc import GeocoderTimedOut"
   ]
  },
  {
   "cell_type": "markdown",
   "metadata": {},
   "source": [
    "# Data Cleaning"
   ]
  },
  {
   "cell_type": "code",
   "execution_count": 2,
   "metadata": {},
   "outputs": [
    {
     "data": {
      "text/html": [
       "<div>\n",
       "<style>\n",
       "    .dataframe thead tr:only-child th {\n",
       "        text-align: right;\n",
       "    }\n",
       "\n",
       "    .dataframe thead th {\n",
       "        text-align: left;\n",
       "    }\n",
       "\n",
       "    .dataframe tbody tr th {\n",
       "        vertical-align: top;\n",
       "    }\n",
       "</style>\n",
       "<table border=\"1\" class=\"dataframe\">\n",
       "  <thead>\n",
       "    <tr style=\"text-align: right;\">\n",
       "      <th></th>\n",
       "      <th>Case</th>\n",
       "      <th>Location</th>\n",
       "      <th>Date</th>\n",
       "      <th>Year</th>\n",
       "      <th>Summary</th>\n",
       "      <th>Fatalities</th>\n",
       "      <th>Injured</th>\n",
       "      <th>Total victims</th>\n",
       "      <th>Venue</th>\n",
       "      <th>Prior signs of mental health issues</th>\n",
       "      <th>...</th>\n",
       "      <th>Where obtained</th>\n",
       "      <th>Type of weapons</th>\n",
       "      <th>Weapon details</th>\n",
       "      <th>Race</th>\n",
       "      <th>Gender</th>\n",
       "      <th>Sources</th>\n",
       "      <th>Mental Health Sources</th>\n",
       "      <th>latitude</th>\n",
       "      <th>longitude</th>\n",
       "      <th>Type</th>\n",
       "    </tr>\n",
       "  </thead>\n",
       "  <tbody>\n",
       "    <tr>\n",
       "      <th>0</th>\n",
       "      <td>Yountville veterans home shooting</td>\n",
       "      <td>Yountville, CA</td>\n",
       "      <td>3/9/18</td>\n",
       "      <td>2018</td>\n",
       "      <td>Army veteran Albert Cheung Wong, 36, stormed a...</td>\n",
       "      <td>3</td>\n",
       "      <td>0</td>\n",
       "      <td>3</td>\n",
       "      <td>Workplace</td>\n",
       "      <td>Yes</td>\n",
       "      <td>...</td>\n",
       "      <td>TBD</td>\n",
       "      <td>semiautomatic rifle; shotgun</td>\n",
       "      <td>NaN</td>\n",
       "      <td>Asian</td>\n",
       "      <td>M</td>\n",
       "      <td>https://www.cnn.com/2018/03/10/us/california-v...</td>\n",
       "      <td>https://www.cnn.com/2018/03/10/us/california-v...</td>\n",
       "      <td>NaN</td>\n",
       "      <td>NaN</td>\n",
       "      <td>Mass</td>\n",
       "    </tr>\n",
       "    <tr>\n",
       "      <th>1</th>\n",
       "      <td>Stoneman Douglas High School shooting</td>\n",
       "      <td>Parkland, Florida</td>\n",
       "      <td>2/14/18</td>\n",
       "      <td>2018</td>\n",
       "      <td>Nikolas J. Cruz, 19, heavily armed with an AR-...</td>\n",
       "      <td>17</td>\n",
       "      <td>14</td>\n",
       "      <td>31</td>\n",
       "      <td>School</td>\n",
       "      <td>Yes</td>\n",
       "      <td>...</td>\n",
       "      <td>A Florida pawn shop</td>\n",
       "      <td>semiautomatic rifle</td>\n",
       "      <td>AR-15</td>\n",
       "      <td>White</td>\n",
       "      <td>M</td>\n",
       "      <td>https://www.nytimes.com/2018/02/14/us/parkland...</td>\n",
       "      <td>https://www.nytimes.com/2018/02/15/us/nikolas-...</td>\n",
       "      <td>NaN</td>\n",
       "      <td>NaN</td>\n",
       "      <td>Mass</td>\n",
       "    </tr>\n",
       "    <tr>\n",
       "      <th>2</th>\n",
       "      <td>Pennsylvania carwash shooting</td>\n",
       "      <td>Melcroft, PA</td>\n",
       "      <td>1/28/18</td>\n",
       "      <td>2018</td>\n",
       "      <td>Timothy O'Brien Smith, 28, wearing body armor ...</td>\n",
       "      <td>4</td>\n",
       "      <td>1</td>\n",
       "      <td>5</td>\n",
       "      <td>Other</td>\n",
       "      <td>TBD</td>\n",
       "      <td>...</td>\n",
       "      <td>TBD</td>\n",
       "      <td>semiautomatic rifle and semiautomatic handgun</td>\n",
       "      <td>NaN</td>\n",
       "      <td>White</td>\n",
       "      <td>M</td>\n",
       "      <td>http://www.wpxi.com/news/top-stories/family-me...</td>\n",
       "      <td>NaN</td>\n",
       "      <td>NaN</td>\n",
       "      <td>NaN</td>\n",
       "      <td>Mass</td>\n",
       "    </tr>\n",
       "    <tr>\n",
       "      <th>3</th>\n",
       "      <td>Rancho Tehama shooting spree</td>\n",
       "      <td>Rancho Tehama, CA</td>\n",
       "      <td>11/14/17</td>\n",
       "      <td>2017</td>\n",
       "      <td>Kevin Janson Neal, 44, went on an approximatel...</td>\n",
       "      <td>5</td>\n",
       "      <td>10</td>\n",
       "      <td>15</td>\n",
       "      <td>Other</td>\n",
       "      <td>TBD</td>\n",
       "      <td>...</td>\n",
       "      <td>TBD</td>\n",
       "      <td>semiautomatic rifles</td>\n",
       "      <td>Two illegally modified rifles</td>\n",
       "      <td>White</td>\n",
       "      <td>M</td>\n",
       "      <td>https://www.nbcnews.com/news/us-news/californi...</td>\n",
       "      <td>NaN</td>\n",
       "      <td>NaN</td>\n",
       "      <td>NaN</td>\n",
       "      <td>Spree</td>\n",
       "    </tr>\n",
       "    <tr>\n",
       "      <th>4</th>\n",
       "      <td>Texas First Baptist Church massacre</td>\n",
       "      <td>Sutherland Springs, TX</td>\n",
       "      <td>11/5/17</td>\n",
       "      <td>2017</td>\n",
       "      <td>Devin Patrick Kelley, a 26-year-old ex-US Air ...</td>\n",
       "      <td>26</td>\n",
       "      <td>20</td>\n",
       "      <td>46+</td>\n",
       "      <td>Religious</td>\n",
       "      <td>Yes</td>\n",
       "      <td>...</td>\n",
       "      <td>Purchased in April 2016 from an Academy Sports...</td>\n",
       "      <td>semiautomatic rifle</td>\n",
       "      <td>Ruger AR-556; Kelley also possessed semiautoma...</td>\n",
       "      <td>White</td>\n",
       "      <td>M</td>\n",
       "      <td>https://www.washingtonpost.com/news/morning-mi...</td>\n",
       "      <td>http://www.expressnews.com/news/local/article/...</td>\n",
       "      <td>32.780105</td>\n",
       "      <td>-96.800008</td>\n",
       "      <td>Mass</td>\n",
       "    </tr>\n",
       "  </tbody>\n",
       "</table>\n",
       "<p>5 rows × 22 columns</p>\n",
       "</div>"
      ],
      "text/plain": [
       "                                    Case                Location      Date  \\\n",
       "0      Yountville veterans home shooting          Yountville, CA    3/9/18   \n",
       "1  Stoneman Douglas High School shooting       Parkland, Florida   2/14/18   \n",
       "2          Pennsylvania carwash shooting            Melcroft, PA   1/28/18   \n",
       "3           Rancho Tehama shooting spree       Rancho Tehama, CA  11/14/17   \n",
       "4    Texas First Baptist Church massacre  Sutherland Springs, TX   11/5/17   \n",
       "\n",
       "   Year                                            Summary  Fatalities  \\\n",
       "0  2018  Army veteran Albert Cheung Wong, 36, stormed a...           3   \n",
       "1  2018  Nikolas J. Cruz, 19, heavily armed with an AR-...          17   \n",
       "2  2018  Timothy O'Brien Smith, 28, wearing body armor ...           4   \n",
       "3  2017  Kevin Janson Neal, 44, went on an approximatel...           5   \n",
       "4  2017  Devin Patrick Kelley, a 26-year-old ex-US Air ...          26   \n",
       "\n",
       "  Injured Total victims      Venue Prior signs of mental health issues  ...    \\\n",
       "0       0             3  Workplace                                 Yes  ...     \n",
       "1      14            31     School                                 Yes  ...     \n",
       "2       1             5      Other                                 TBD  ...     \n",
       "3      10            15      Other                                 TBD  ...     \n",
       "4      20           46+  Religious                                 Yes  ...     \n",
       "\n",
       "                                      Where obtained  \\\n",
       "0                                                TBD   \n",
       "1                                A Florida pawn shop   \n",
       "2                                                TBD   \n",
       "3                                                TBD   \n",
       "4  Purchased in April 2016 from an Academy Sports...   \n",
       "\n",
       "                                 Type of weapons  \\\n",
       "0                   semiautomatic rifle; shotgun   \n",
       "1                            semiautomatic rifle   \n",
       "2  semiautomatic rifle and semiautomatic handgun   \n",
       "3                           semiautomatic rifles   \n",
       "4                            semiautomatic rifle   \n",
       "\n",
       "                                      Weapon details   Race Gender  \\\n",
       "0                                                NaN  Asian      M   \n",
       "1                                              AR-15  White      M   \n",
       "2                                                NaN  White      M   \n",
       "3                      Two illegally modified rifles  White      M   \n",
       "4  Ruger AR-556; Kelley also possessed semiautoma...  White      M   \n",
       "\n",
       "                                             Sources  \\\n",
       "0  https://www.cnn.com/2018/03/10/us/california-v...   \n",
       "1  https://www.nytimes.com/2018/02/14/us/parkland...   \n",
       "2  http://www.wpxi.com/news/top-stories/family-me...   \n",
       "3  https://www.nbcnews.com/news/us-news/californi...   \n",
       "4  https://www.washingtonpost.com/news/morning-mi...   \n",
       "\n",
       "                               Mental Health Sources   latitude  longitude  \\\n",
       "0  https://www.cnn.com/2018/03/10/us/california-v...        NaN        NaN   \n",
       "1  https://www.nytimes.com/2018/02/15/us/nikolas-...        NaN        NaN   \n",
       "2                                                NaN        NaN        NaN   \n",
       "3                                                NaN        NaN        NaN   \n",
       "4  http://www.expressnews.com/news/local/article/...  32.780105 -96.800008   \n",
       "\n",
       "    Type  \n",
       "0   Mass  \n",
       "1   Mass  \n",
       "2   Mass  \n",
       "3  Spree  \n",
       "4   Mass  \n",
       "\n",
       "[5 rows x 22 columns]"
      ]
     },
     "execution_count": 2,
     "metadata": {},
     "output_type": "execute_result"
    }
   ],
   "source": [
    "#reading the csv file into a dataframe \n",
    "shootings_df = pd.read_csv('usmassdata.csv', encoding='latin-1')\n",
    "shootings_df.head()"
   ]
  },
  {
   "cell_type": "code",
   "execution_count": 3,
   "metadata": {},
   "outputs": [
    {
     "name": "stdout",
     "output_type": "stream",
     "text": [
      "(37.8044557, -122.2713563)\n"
     ]
    }
   ],
   "source": [
    "#testing for Geopy to retrieve (latitude , longitude) based on the \"Location\" field of the dataframe \n",
    "test_address = \"Oakland, California\"\n",
    "geolocator = Nominatim()\n",
    "try:\n",
    "    location = geolocator.geocode(test_address)\n",
    "    print((location.latitude, location.longitude))\n",
    "except GeocoderTimedOut as e:\n",
    "    print(\"Error: geocode failed on input %s with message %s\"%(test_address, e.message))"
   ]
  },
  {
   "cell_type": "code",
   "execution_count": 4,
   "metadata": {
    "collapsed": true
   },
   "outputs": [],
   "source": [
    "# Loop through the dataframe to check if the latitude is missing. \n",
    "# If the Latitue is a \"NaN\" then update the (Lat, Lon) data from Geopy\n",
    "for index, row in shootings_df.iterrows():\n",
    "        try:\n",
    "            location = geolocator.geocode(row['Location'])\n",
    "            shootings_df.loc[index, 'latitude']= location.latitude\n",
    "            shootings_df.loc[index, 'longitude']= location.longitude\n",
    "        except GeocoderTimedOut as e:\n",
    "            print(\"Error: geocode failed on input %s with message %s\"%(row['Location'], e.message))      "
   ]
  },
  {
   "cell_type": "code",
   "execution_count": 5,
   "metadata": {},
   "outputs": [
    {
     "data": {
      "text/html": [
       "<div>\n",
       "<style>\n",
       "    .dataframe thead tr:only-child th {\n",
       "        text-align: right;\n",
       "    }\n",
       "\n",
       "    .dataframe thead th {\n",
       "        text-align: left;\n",
       "    }\n",
       "\n",
       "    .dataframe tbody tr th {\n",
       "        vertical-align: top;\n",
       "    }\n",
       "</style>\n",
       "<table border=\"1\" class=\"dataframe\">\n",
       "  <thead>\n",
       "    <tr style=\"text-align: right;\">\n",
       "      <th></th>\n",
       "      <th>Case</th>\n",
       "      <th>Location</th>\n",
       "      <th>Date</th>\n",
       "      <th>Year</th>\n",
       "      <th>Summary</th>\n",
       "      <th>Fatalities</th>\n",
       "      <th>Injured</th>\n",
       "      <th>Total victims</th>\n",
       "      <th>Venue</th>\n",
       "      <th>Prior signs of mental health issues</th>\n",
       "      <th>...</th>\n",
       "      <th>Where obtained</th>\n",
       "      <th>Type of weapons</th>\n",
       "      <th>Weapon details</th>\n",
       "      <th>Race</th>\n",
       "      <th>Gender</th>\n",
       "      <th>Sources</th>\n",
       "      <th>Mental Health Sources</th>\n",
       "      <th>latitude</th>\n",
       "      <th>longitude</th>\n",
       "      <th>Type</th>\n",
       "    </tr>\n",
       "  </thead>\n",
       "  <tbody>\n",
       "    <tr>\n",
       "      <th>8</th>\n",
       "      <td>San Francisco UPS shooting</td>\n",
       "      <td>San Francisco, CA</td>\n",
       "      <td>6/14/17</td>\n",
       "      <td>2017</td>\n",
       "      <td>Jimmy Lam, 38, fatally shot three coworkers an...</td>\n",
       "      <td>3</td>\n",
       "      <td>2</td>\n",
       "      <td>5</td>\n",
       "      <td>Workplace</td>\n",
       "      <td>Yes</td>\n",
       "      <td>...</td>\n",
       "      <td>Unclear; the firearm was stolen in Utah. A sec...</td>\n",
       "      <td>two handguns</td>\n",
       "      <td>MAC-10-style Òassault pistolÓ; 30-round magazi...</td>\n",
       "      <td>Asian</td>\n",
       "      <td>M</td>\n",
       "      <td>http://www.nbcbayarea.com/news/local/Active-Sh...</td>\n",
       "      <td>http://www.ktvu.com/news/ktvu-local-news/26177...</td>\n",
       "      <td>37.774929</td>\n",
       "      <td>-122.419416</td>\n",
       "      <td>Mass</td>\n",
       "    </tr>\n",
       "  </tbody>\n",
       "</table>\n",
       "<p>1 rows × 22 columns</p>\n",
       "</div>"
      ],
      "text/plain": [
       "                         Case           Location     Date  Year  \\\n",
       "8  San Francisco UPS shooting  San Francisco, CA  6/14/17  2017   \n",
       "\n",
       "                                             Summary  Fatalities Injured  \\\n",
       "8  Jimmy Lam, 38, fatally shot three coworkers an...           3       2   \n",
       "\n",
       "  Total victims      Venue Prior signs of mental health issues  ...   \\\n",
       "8             5  Workplace                                 Yes  ...    \n",
       "\n",
       "                                      Where obtained Type of weapons  \\\n",
       "8  Unclear; the firearm was stolen in Utah. A sec...    two handguns   \n",
       "\n",
       "                                      Weapon details   Race Gender  \\\n",
       "8  MAC-10-style Òassault pistolÓ; 30-round magazi...  Asian      M   \n",
       "\n",
       "                                             Sources  \\\n",
       "8  http://www.nbcbayarea.com/news/local/Active-Sh...   \n",
       "\n",
       "                               Mental Health Sources   latitude   longitude  \\\n",
       "8  http://www.ktvu.com/news/ktvu-local-news/26177...  37.774929 -122.419416   \n",
       "\n",
       "   Type  \n",
       "8  Mass  \n",
       "\n",
       "[1 rows x 22 columns]"
      ]
     },
     "execution_count": 5,
     "metadata": {},
     "output_type": "execute_result"
    }
   ],
   "source": [
    "# adding redults to another dataframe so that there is no confusion when referencing for Database creation \n",
    "# Geopy San Francisco Coordinates are incorrect, so we'll update it manually \n",
    "shootings_df.loc[83, 'longitude']= -122.41941550000001\n",
    "shootings_df.loc[83, 'latitude']= 37.7749295\n",
    "shootings_df.loc[8, 'longitude']= -122.41941550000001\n",
    "shootings_df.loc[8, 'latitude']= 37.7749295\n",
    "complete_shootings_df = shootings_df\n",
    "complete_shootings_df[complete_shootings_df['Location'] == 'San Francisco, CA']"
   ]
  },
  {
   "cell_type": "code",
   "execution_count": 6,
   "metadata": {},
   "outputs": [
    {
     "data": {
      "text/plain": [
       "['Case',\n",
       " 'Location',\n",
       " 'Date',\n",
       " 'Year',\n",
       " 'Summary',\n",
       " 'Fatalities',\n",
       " 'Injured',\n",
       " 'Total victims',\n",
       " 'Venue',\n",
       " 'Prior signs of mental health issues',\n",
       " 'Mental health - details',\n",
       " 'Weapons obtained legally',\n",
       " 'Where obtained',\n",
       " 'Type of weapons',\n",
       " 'Weapon details',\n",
       " 'Race',\n",
       " 'Gender',\n",
       " 'Sources',\n",
       " 'Mental Health Sources',\n",
       " 'latitude',\n",
       " 'longitude',\n",
       " 'Type']"
      ]
     },
     "execution_count": 6,
     "metadata": {},
     "output_type": "execute_result"
    }
   ],
   "source": [
    "# list of all column headers\n",
    "list(complete_shootings_df)"
   ]
  },
  {
   "cell_type": "code",
   "execution_count": 7,
   "metadata": {
    "collapsed": true
   },
   "outputs": [],
   "source": [
    "#rename column headers so that there are no spaces\n",
    "\n",
    "complete_shootings_df = complete_shootings_df.rename(columns={'Case': 'case', \n",
    "                                        'Location': 'location', \n",
    "                                        'Date': 'date', \n",
    "                                        'Year': 'year', \n",
    "                                        'Summary': 'summary', \n",
    "                                        'Fatalities': 'fatalities', \n",
    "                                        'Injured': 'injured', \n",
    "                                        'Total victims': 'total_victims', \n",
    "                                        'Venue': 'venue', \n",
    "                                        'Prior signs of mental health issues': 'prior_signs_mental_health', \n",
    "                                        'Mental health - details': 'mental_health', \n",
    "                                        'Weapons obtained legally': 'weapons_obtained_legally', \n",
    "                                        'Where obtained': 'where_obtained',\n",
    "                                        'Type of weapons': 'type_weapon', \n",
    "                                        'Weapon details': 'weapon_details', \n",
    "                                        'Race': 'race', \n",
    "                                        'Gender': 'gender', \n",
    "                                        'Sources': 'sources', \n",
    "                                        'Mental Health Sources': 'mental_health_sources', \n",
    "                                        'Type': 'shooting_type'})\n"
   ]
  },
  {
   "cell_type": "code",
   "execution_count": 8,
   "metadata": {
    "collapsed": true
   },
   "outputs": [],
   "source": [
    "for col in complete_shootings_df.columns:\n",
    "    try:\n",
    "        str(complete_shootings_df[col].iloc[0])\n",
    "        complete_shootings_df[col] = complete_shootings_df[col].apply(lambda x: x.replace('\\r', ''))\n",
    "    except:\n",
    "        pass"
   ]
  },
  {
   "cell_type": "code",
   "execution_count": 9,
   "metadata": {},
   "outputs": [
    {
     "data": {
      "text/plain": [
       "'semiautomatic handgun'"
      ]
     },
     "execution_count": 9,
     "metadata": {},
     "output_type": "execute_result"
    }
   ],
   "source": [
    "complete_shootings_df['type_weapon'].values[13].replace('\\r', '')                          "
   ]
  },
  {
   "cell_type": "code",
   "execution_count": 10,
   "metadata": {},
   "outputs": [
    {
     "data": {
      "text/html": [
       "<div>\n",
       "<style>\n",
       "    .dataframe thead tr:only-child th {\n",
       "        text-align: right;\n",
       "    }\n",
       "\n",
       "    .dataframe thead th {\n",
       "        text-align: left;\n",
       "    }\n",
       "\n",
       "    .dataframe tbody tr th {\n",
       "        vertical-align: top;\n",
       "    }\n",
       "</style>\n",
       "<table border=\"1\" class=\"dataframe\">\n",
       "  <thead>\n",
       "    <tr style=\"text-align: right;\">\n",
       "      <th></th>\n",
       "      <th>case</th>\n",
       "      <th>location</th>\n",
       "      <th>date</th>\n",
       "      <th>year</th>\n",
       "      <th>summary</th>\n",
       "      <th>fatalities</th>\n",
       "      <th>injured</th>\n",
       "      <th>total_victims</th>\n",
       "      <th>venue</th>\n",
       "      <th>prior_signs_mental_health</th>\n",
       "      <th>...</th>\n",
       "      <th>where_obtained</th>\n",
       "      <th>type_weapon</th>\n",
       "      <th>weapon_details</th>\n",
       "      <th>race</th>\n",
       "      <th>gender</th>\n",
       "      <th>sources</th>\n",
       "      <th>mental_health_sources</th>\n",
       "      <th>latitude</th>\n",
       "      <th>longitude</th>\n",
       "      <th>shooting_type</th>\n",
       "    </tr>\n",
       "  </thead>\n",
       "  <tbody>\n",
       "    <tr>\n",
       "      <th>0</th>\n",
       "      <td>Yountville veterans home shooting</td>\n",
       "      <td>Yountville, CA</td>\n",
       "      <td>3/9/18</td>\n",
       "      <td>2018</td>\n",
       "      <td>Army veteran Albert Cheung Wong, 36, stormed a...</td>\n",
       "      <td>3</td>\n",
       "      <td>0</td>\n",
       "      <td>3</td>\n",
       "      <td>Workplace</td>\n",
       "      <td>Yes</td>\n",
       "      <td>...</td>\n",
       "      <td>TBD</td>\n",
       "      <td>semiautomatic rifle; shotgun</td>\n",
       "      <td>NaN</td>\n",
       "      <td>Asian</td>\n",
       "      <td>M</td>\n",
       "      <td>https://www.cnn.com/2018/03/10/us/california-v...</td>\n",
       "      <td>https://www.cnn.com/2018/03/10/us/california-v...</td>\n",
       "      <td>38.395445</td>\n",
       "      <td>-122.360173</td>\n",
       "      <td>Mass</td>\n",
       "    </tr>\n",
       "    <tr>\n",
       "      <th>1</th>\n",
       "      <td>Stoneman Douglas High School shooting</td>\n",
       "      <td>Parkland, Florida</td>\n",
       "      <td>2/14/18</td>\n",
       "      <td>2018</td>\n",
       "      <td>Nikolas J. Cruz, 19, heavily armed with an AR-...</td>\n",
       "      <td>17</td>\n",
       "      <td>14</td>\n",
       "      <td>31</td>\n",
       "      <td>School</td>\n",
       "      <td>Yes</td>\n",
       "      <td>...</td>\n",
       "      <td>A Florida pawn shop</td>\n",
       "      <td>semiautomatic rifle</td>\n",
       "      <td>AR-15</td>\n",
       "      <td>White</td>\n",
       "      <td>M</td>\n",
       "      <td>https://www.nytimes.com/2018/02/14/us/parkland...</td>\n",
       "      <td>https://www.nytimes.com/2018/02/15/us/nikolas-...</td>\n",
       "      <td>26.310079</td>\n",
       "      <td>-80.237270</td>\n",
       "      <td>Mass</td>\n",
       "    </tr>\n",
       "    <tr>\n",
       "      <th>2</th>\n",
       "      <td>Pennsylvania carwash shooting</td>\n",
       "      <td>Melcroft, PA</td>\n",
       "      <td>1/28/18</td>\n",
       "      <td>2018</td>\n",
       "      <td>Timothy O'Brien Smith, 28, wearing body armor ...</td>\n",
       "      <td>4</td>\n",
       "      <td>1</td>\n",
       "      <td>5</td>\n",
       "      <td>Other</td>\n",
       "      <td>TBD</td>\n",
       "      <td>...</td>\n",
       "      <td>TBD</td>\n",
       "      <td>semiautomatic rifle and semiautomatic handgun</td>\n",
       "      <td>NaN</td>\n",
       "      <td>White</td>\n",
       "      <td>M</td>\n",
       "      <td>http://www.wpxi.com/news/top-stories/family-me...</td>\n",
       "      <td>NaN</td>\n",
       "      <td>40.052018</td>\n",
       "      <td>-79.389202</td>\n",
       "      <td>Mass</td>\n",
       "    </tr>\n",
       "    <tr>\n",
       "      <th>3</th>\n",
       "      <td>Rancho Tehama shooting spree</td>\n",
       "      <td>Rancho Tehama, CA</td>\n",
       "      <td>11/14/17</td>\n",
       "      <td>2017</td>\n",
       "      <td>Kevin Janson Neal, 44, went on an approximatel...</td>\n",
       "      <td>5</td>\n",
       "      <td>10</td>\n",
       "      <td>15</td>\n",
       "      <td>Other</td>\n",
       "      <td>TBD</td>\n",
       "      <td>...</td>\n",
       "      <td>TBD</td>\n",
       "      <td>semiautomatic rifles</td>\n",
       "      <td>Two illegally modified rifles</td>\n",
       "      <td>White</td>\n",
       "      <td>M</td>\n",
       "      <td>https://www.nbcnews.com/news/us-news/californi...</td>\n",
       "      <td>NaN</td>\n",
       "      <td>39.993786</td>\n",
       "      <td>-122.471880</td>\n",
       "      <td>Spree</td>\n",
       "    </tr>\n",
       "    <tr>\n",
       "      <th>4</th>\n",
       "      <td>Texas First Baptist Church massacre</td>\n",
       "      <td>Sutherland Springs, TX</td>\n",
       "      <td>11/5/17</td>\n",
       "      <td>2017</td>\n",
       "      <td>Devin Patrick Kelley, a 26-year-old ex-US Air ...</td>\n",
       "      <td>26</td>\n",
       "      <td>20</td>\n",
       "      <td>46+</td>\n",
       "      <td>Religious</td>\n",
       "      <td>Yes</td>\n",
       "      <td>...</td>\n",
       "      <td>Purchased in April 2016 from an Academy Sports...</td>\n",
       "      <td>semiautomatic rifle</td>\n",
       "      <td>Ruger AR-556; Kelley also possessed semiautoma...</td>\n",
       "      <td>White</td>\n",
       "      <td>M</td>\n",
       "      <td>https://www.washingtonpost.com/news/morning-mi...</td>\n",
       "      <td>http://www.expressnews.com/news/local/article/...</td>\n",
       "      <td>29.274044</td>\n",
       "      <td>-98.055906</td>\n",
       "      <td>Mass</td>\n",
       "    </tr>\n",
       "  </tbody>\n",
       "</table>\n",
       "<p>5 rows × 22 columns</p>\n",
       "</div>"
      ],
      "text/plain": [
       "                                    case                location      date  \\\n",
       "0      Yountville veterans home shooting          Yountville, CA    3/9/18   \n",
       "1  Stoneman Douglas High School shooting       Parkland, Florida   2/14/18   \n",
       "2          Pennsylvania carwash shooting            Melcroft, PA   1/28/18   \n",
       "3           Rancho Tehama shooting spree       Rancho Tehama, CA  11/14/17   \n",
       "4    Texas First Baptist Church massacre  Sutherland Springs, TX   11/5/17   \n",
       "\n",
       "   year                                            summary  fatalities  \\\n",
       "0  2018  Army veteran Albert Cheung Wong, 36, stormed a...           3   \n",
       "1  2018  Nikolas J. Cruz, 19, heavily armed with an AR-...          17   \n",
       "2  2018  Timothy O'Brien Smith, 28, wearing body armor ...           4   \n",
       "3  2017  Kevin Janson Neal, 44, went on an approximatel...           5   \n",
       "4  2017  Devin Patrick Kelley, a 26-year-old ex-US Air ...          26   \n",
       "\n",
       "  injured total_victims      venue prior_signs_mental_health      ...        \\\n",
       "0       0             3  Workplace                       Yes      ...         \n",
       "1      14            31     School                       Yes      ...         \n",
       "2       1             5      Other                       TBD      ...         \n",
       "3      10            15      Other                       TBD      ...         \n",
       "4      20           46+  Religious                       Yes      ...         \n",
       "\n",
       "                                      where_obtained  \\\n",
       "0                                                TBD   \n",
       "1                                A Florida pawn shop   \n",
       "2                                                TBD   \n",
       "3                                                TBD   \n",
       "4  Purchased in April 2016 from an Academy Sports...   \n",
       "\n",
       "                                     type_weapon  \\\n",
       "0                   semiautomatic rifle; shotgun   \n",
       "1                            semiautomatic rifle   \n",
       "2  semiautomatic rifle and semiautomatic handgun   \n",
       "3                           semiautomatic rifles   \n",
       "4                            semiautomatic rifle   \n",
       "\n",
       "                                      weapon_details   race gender  \\\n",
       "0                                                NaN  Asian      M   \n",
       "1                                              AR-15  White      M   \n",
       "2                                                NaN  White      M   \n",
       "3                      Two illegally modified rifles  White      M   \n",
       "4  Ruger AR-556; Kelley also possessed semiautoma...  White      M   \n",
       "\n",
       "                                             sources  \\\n",
       "0  https://www.cnn.com/2018/03/10/us/california-v...   \n",
       "1  https://www.nytimes.com/2018/02/14/us/parkland...   \n",
       "2  http://www.wpxi.com/news/top-stories/family-me...   \n",
       "3  https://www.nbcnews.com/news/us-news/californi...   \n",
       "4  https://www.washingtonpost.com/news/morning-mi...   \n",
       "\n",
       "                               mental_health_sources   latitude   longitude  \\\n",
       "0  https://www.cnn.com/2018/03/10/us/california-v...  38.395445 -122.360173   \n",
       "1  https://www.nytimes.com/2018/02/15/us/nikolas-...  26.310079  -80.237270   \n",
       "2                                                NaN  40.052018  -79.389202   \n",
       "3                                                NaN  39.993786 -122.471880   \n",
       "4  http://www.expressnews.com/news/local/article/...  29.274044  -98.055906   \n",
       "\n",
       "   shooting_type  \n",
       "0           Mass  \n",
       "1           Mass  \n",
       "2           Mass  \n",
       "3          Spree  \n",
       "4           Mass  \n",
       "\n",
       "[5 rows x 22 columns]"
      ]
     },
     "execution_count": 10,
     "metadata": {},
     "output_type": "execute_result"
    }
   ],
   "source": [
    "complete_shootings_df.head()"
   ]
  },
  {
   "cell_type": "code",
   "execution_count": 11,
   "metadata": {},
   "outputs": [
    {
     "name": "stdout",
     "output_type": "stream",
     "text": [
      "<class 'pandas.core.frame.DataFrame'>\n",
      "RangeIndex: 98 entries, 0 to 97\n",
      "Data columns (total 22 columns):\n",
      "case                         98 non-null object\n",
      "location                     98 non-null object\n",
      "date                         98 non-null object\n",
      "year                         98 non-null int64\n",
      "summary                      98 non-null object\n",
      "fatalities                   98 non-null int64\n",
      "injured                      98 non-null object\n",
      "total_victims                98 non-null object\n",
      "venue                        98 non-null object\n",
      "prior_signs_mental_health    98 non-null object\n",
      "mental_health                87 non-null object\n",
      "weapons_obtained_legally     98 non-null object\n",
      "where_obtained               86 non-null object\n",
      "type_weapon                  98 non-null object\n",
      "weapon_details               91 non-null object\n",
      "race                         96 non-null object\n",
      "gender                       98 non-null object\n",
      "sources                      98 non-null object\n",
      "mental_health_sources        76 non-null object\n",
      "latitude                     98 non-null float64\n",
      "longitude                    98 non-null float64\n",
      "shooting_type                98 non-null object\n",
      "dtypes: float64(2), int64(2), object(18)\n",
      "memory usage: 16.9+ KB\n"
     ]
    }
   ],
   "source": [
    "# recheck column header\n",
    "\n",
    "complete_shootings_df.info()\n"
   ]
  },
  {
   "cell_type": "code",
   "execution_count": 12,
   "metadata": {
    "collapsed": true
   },
   "outputs": [],
   "source": [
    "#complete_shootings_df.to_csv(\"Cleaned_Shooting.csv\", index = False)"
   ]
  },
  {
   "cell_type": "markdown",
   "metadata": {
    "collapsed": true
   },
   "source": [
    "# Database Creation"
   ]
  },
  {
   "cell_type": "code",
   "execution_count": 36,
   "metadata": {
    "collapsed": true
   },
   "outputs": [],
   "source": [
    "# Python SQL toolkit and Object Relational Mapper\n",
    "import sqlalchemy\n",
    "from sqlalchemy.ext.automap import automap_base\n",
    "from sqlalchemy.ext.declarative import declarative_base\n",
    "from sqlalchemy.orm import Session\n",
    "from sqlalchemy import create_engine, inspect, func\n",
    "from sqlalchemy import Column, Integer, String, Float"
   ]
  },
  {
   "cell_type": "code",
   "execution_count": 14,
   "metadata": {
    "collapsed": true
   },
   "outputs": [],
   "source": [
    "# Create an engine to a SQLite database file called `shootings.sqlite`\n",
    "engine = create_engine(\"sqlite:///shootings.sqlite\")"
   ]
  },
  {
   "cell_type": "code",
   "execution_count": 15,
   "metadata": {
    "collapsed": true
   },
   "outputs": [],
   "source": [
    "# Create a session\n",
    "session = Session(engine)"
   ]
  },
  {
   "cell_type": "code",
   "execution_count": 16,
   "metadata": {
    "collapsed": true
   },
   "outputs": [],
   "source": [
    "# Create a connection to the engine called `conn`\n",
    "conn = engine.connect()"
   ]
  },
  {
   "cell_type": "code",
   "execution_count": 17,
   "metadata": {
    "collapsed": true
   },
   "outputs": [],
   "source": [
    "#append data from csv created df to correct classes(tables)\n",
    "complete_shootings_df.to_sql('shootings', engine, if_exists='append', index=False)"
   ]
  },
  {
   "cell_type": "code",
   "execution_count": 18,
   "metadata": {
    "scrolled": true
   },
   "outputs": [
    {
     "data": {
      "text/plain": [
       "['shootings']"
      ]
     },
     "execution_count": 18,
     "metadata": {},
     "output_type": "execute_result"
    }
   ],
   "source": [
    "# Create the inspector and connect it to the engine\n",
    "inspector = inspect(engine)\n",
    "# Collect the names of tables within the database\n",
    "inspector.get_table_names()"
   ]
  },
  {
   "cell_type": "code",
   "execution_count": 19,
   "metadata": {},
   "outputs": [
    {
     "name": "stdout",
     "output_type": "stream",
     "text": [
      "case TEXT\n",
      "location TEXT\n",
      "date TEXT\n",
      "year BIGINT\n",
      "summary TEXT\n",
      "fatalities BIGINT\n",
      "injured TEXT\n",
      "total_victims TEXT\n",
      "venue TEXT\n",
      "prior_signs_mental_health TEXT\n",
      "mental_health TEXT\n",
      "weapons_obtained_legally TEXT\n",
      "where_obtained TEXT\n",
      "type_weapon TEXT\n",
      "weapon_details TEXT\n",
      "race TEXT\n",
      "gender TEXT\n",
      "sources TEXT\n",
      "mental_health_sources TEXT\n",
      "latitude FLOAT\n",
      "longitude FLOAT\n",
      "shooting_type TEXT\n"
     ]
    }
   ],
   "source": [
    "# Using the inspector to print the column names within the 'dow' table and its types\n",
    "columns = inspector.get_columns('shootings')\n",
    "for column in columns:\n",
    "    print(column[\"name\"], column[\"type\"])"
   ]
  },
  {
   "cell_type": "code",
   "execution_count": 21,
   "metadata": {},
   "outputs": [],
   "source": [
    "Base = declarative_base(engine)"
   ]
  },
  {
   "cell_type": "code",
   "execution_count": 22,
   "metadata": {},
   "outputs": [],
   "source": [
    "class Shootings(Base):\n",
    "      __tablename__ = 'shootings'\n",
    "      __table_args__ = {'autoload': True} "
   ]
  },
  {
   "cell_type": "code",
   "execution_count": 25,
   "metadata": {},
   "outputs": [],
   "source": [
    "Base = automap_base()\n",
    "Base.prepare(engine, reflect=True)"
   ]
  },
  {
   "cell_type": "code",
   "execution_count": 26,
   "metadata": {},
   "outputs": [
    {
     "data": {
      "text/plain": [
       "['shootings']"
      ]
     },
     "execution_count": 26,
     "metadata": {},
     "output_type": "execute_result"
    }
   ],
   "source": [
    "Base.classes.keys()"
   ]
  },
  {
   "cell_type": "code",
   "execution_count": 30,
   "metadata": {},
   "outputs": [],
   "source": [
    "shooting_data = Base.classes.shootings"
   ]
  },
  {
   "cell_type": "code",
   "execution_count": 71,
   "metadata": {
    "scrolled": true
   },
   "outputs": [
    {
     "data": {
      "text/plain": [
       "[(1),\n",
       " (2),\n",
       " (1),\n",
       " (1),\n",
       " (1),\n",
       " (2),\n",
       " (1),\n",
       " (3),\n",
       " (2),\n",
       " (4),\n",
       " (1),\n",
       " (1),\n",
       " (1),\n",
       " (2),\n",
       " (3),\n",
       " (5),\n",
       " (1),\n",
       " (1),\n",
       " (1),\n",
       " (1),\n",
       " (2),\n",
       " (3),\n",
       " (4),\n",
       " (3),\n",
       " (4),\n",
       " (1),\n",
       " (3),\n",
       " (7),\n",
       " (5),\n",
       " (4),\n",
       " (7),\n",
       " (6),\n",
       " (11),\n",
       " (3)]"
      ]
     },
     "execution_count": 71,
     "metadata": {},
     "output_type": "execute_result"
    }
   ],
   "source": [
    "session.query(func.count(shooting_data.case)).group_by(shooting_data.year).all()\n",
    "#session.query(func.sum(shooting_data.fatalities)).group_by(shooting_data.year)\n",
    "#.filter(shooting_data.prior_signs_mental_health == \"Yes\")\n",
    "#.filter(shooting_data.prior_signs_mental_health == \"No\")\n",
    "#.filter(shooting_data.weapons_obtained_legally == 'Yes')\n",
    "#.filter(shooting_data.weapons_obtained_legally == 'No')"
   ]
  },
  {
   "cell_type": "code",
   "execution_count": 70,
   "metadata": {},
   "outputs": [
    {
     "data": {
      "text/plain": [
       "[(1982),\n",
       " (1984),\n",
       " (1986),\n",
       " (1987),\n",
       " (1988),\n",
       " (1989),\n",
       " (1990),\n",
       " (1991),\n",
       " (1992),\n",
       " (1993),\n",
       " (1994),\n",
       " (1995),\n",
       " (1996),\n",
       " (1997),\n",
       " (1998),\n",
       " (1999),\n",
       " (2000),\n",
       " (2001),\n",
       " (2003),\n",
       " (2004),\n",
       " (2005),\n",
       " (2006),\n",
       " (2007),\n",
       " (2008),\n",
       " (2009),\n",
       " (2010),\n",
       " (2011),\n",
       " (2012),\n",
       " (2013),\n",
       " (2014),\n",
       " (2015),\n",
       " (2016),\n",
       " (2017),\n",
       " (2018)]"
      ]
     },
     "execution_count": 70,
     "metadata": {},
     "output_type": "execute_result"
    }
   ],
   "source": [
    "session.query(shooting_data.year).group_by(shooting_data.year).all()"
   ]
  },
  {
   "cell_type": "code",
   "execution_count": 79,
   "metadata": {
    "collapsed": true
   },
   "outputs": [],
   "source": [
    "data = session.query(func.count(shooting_data.case).label('case_count'), shooting_data.year, func.sum(shooting_data.fatalities).label('fatalities') ).group_by(shooting_data.year).all()\n"
   ]
  },
  {
   "cell_type": "code",
   "execution_count": 111,
   "metadata": {},
   "outputs": [],
   "source": [
    "data = session.query(func.count(shooting_data.case).label('case_count'), shooting_data.year, func.sum(shooting_data.fatalities).label('fatalities') ).group_by(shooting_data.year).all()\n",
    "results = []\n",
    "for row in data:\n",
    "    data_dict = {}\n",
    "    data_dict['year']= row.year\n",
    "    data_dict['case_count'] = row.case_count\n",
    "    data_dict['total_fatalities'] = row.fatalities\n",
    "    results.append(data_dict)"
   ]
  },
  {
   "cell_type": "code",
   "execution_count": 112,
   "metadata": {
    "scrolled": false
   },
   "outputs": [
    {
     "data": {
      "text/plain": [
       "[{'case_count': 1, 'total_fatalities': 8, 'year': 1982},\n",
       " {'case_count': 2, 'total_fatalities': 28, 'year': 1984},\n",
       " {'case_count': 1, 'total_fatalities': 15, 'year': 1986},\n",
       " {'case_count': 1, 'total_fatalities': 6, 'year': 1987},\n",
       " {'case_count': 1, 'total_fatalities': 7, 'year': 1988},\n",
       " {'case_count': 2, 'total_fatalities': 15, 'year': 1989},\n",
       " {'case_count': 1, 'total_fatalities': 10, 'year': 1990},\n",
       " {'case_count': 3, 'total_fatalities': 35, 'year': 1991},\n",
       " {'case_count': 2, 'total_fatalities': 9, 'year': 1992},\n",
       " {'case_count': 4, 'total_fatalities': 23, 'year': 1993},\n",
       " {'case_count': 1, 'total_fatalities': 5, 'year': 1994},\n",
       " {'case_count': 1, 'total_fatalities': 6, 'year': 1995},\n",
       " {'case_count': 1, 'total_fatalities': 6, 'year': 1996},\n",
       " {'case_count': 2, 'total_fatalities': 9, 'year': 1997},\n",
       " {'case_count': 3, 'total_fatalities': 14, 'year': 1998},\n",
       " {'case_count': 5, 'total_fatalities': 42, 'year': 1999},\n",
       " {'case_count': 1, 'total_fatalities': 7, 'year': 2000},\n",
       " {'case_count': 1, 'total_fatalities': 5, 'year': 2001},\n",
       " {'case_count': 1, 'total_fatalities': 7, 'year': 2003},\n",
       " {'case_count': 1, 'total_fatalities': 5, 'year': 2004},\n",
       " {'case_count': 2, 'total_fatalities': 17, 'year': 2005},\n",
       " {'case_count': 3, 'total_fatalities': 21, 'year': 2006},\n",
       " {'case_count': 4, 'total_fatalities': 53, 'year': 2007},\n",
       " {'case_count': 3, 'total_fatalities': 17, 'year': 2008},\n",
       " {'case_count': 4, 'total_fatalities': 39, 'year': 2009},\n",
       " {'case_count': 1, 'total_fatalities': 9, 'year': 2010},\n",
       " {'case_count': 3, 'total_fatalities': 19, 'year': 2011},\n",
       " {'case_count': 7, 'total_fatalities': 71, 'year': 2012},\n",
       " {'case_count': 5, 'total_fatalities': 35, 'year': 2013},\n",
       " {'case_count': 4, 'total_fatalities': 18, 'year': 2014},\n",
       " {'case_count': 7, 'total_fatalities': 46, 'year': 2015},\n",
       " {'case_count': 6, 'total_fatalities': 71, 'year': 2016},\n",
       " {'case_count': 11, 'total_fatalities': 117, 'year': 2017},\n",
       " {'case_count': 3, 'total_fatalities': 24, 'year': 2018}]"
      ]
     },
     "execution_count": 112,
     "metadata": {},
     "output_type": "execute_result"
    }
   ],
   "source": [
    "results"
   ]
  },
  {
   "cell_type": "code",
   "execution_count": null,
   "metadata": {
    "collapsed": true
   },
   "outputs": [],
   "source": []
  }
 ],
 "metadata": {
  "kernelspec": {
   "display_name": "Python 3",
   "language": "python",
   "name": "python3"
  },
  "language_info": {
   "codemirror_mode": {
    "name": "ipython",
    "version": 3
   },
   "file_extension": ".py",
   "mimetype": "text/x-python",
   "name": "python",
   "nbconvert_exporter": "python",
   "pygments_lexer": "ipython3",
   "version": "3.6.3"
  }
 },
 "nbformat": 4,
 "nbformat_minor": 2
}
