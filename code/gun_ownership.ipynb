{
 "cells": [
  {
   "cell_type": "code",
   "execution_count": 24,
   "metadata": {
    "collapsed": true
   },
   "outputs": [],
   "source": [
    "#import dependencies\n",
    "import pandas as pd\n",
    "import numpy\n",
    "# import numpy as np\n",
    "import seaborn as sns\n",
    "import warnings\n",
    "from geopy.geocoders import Nominatim #for going from loctaion to coordinates (lan/lon)\n",
    "from geopy.exc import GeocoderTimedOut\n",
    "import json"
   ]
  },
  {
   "cell_type": "code",
   "execution_count": 25,
   "metadata": {},
   "outputs": [
    {
     "data": {
      "text/html": [
       "<div>\n",
       "<style>\n",
       "    .dataframe thead tr:only-child th {\n",
       "        text-align: right;\n",
       "    }\n",
       "\n",
       "    .dataframe thead th {\n",
       "        text-align: left;\n",
       "    }\n",
       "\n",
       "    .dataframe tbody tr th {\n",
       "        vertical-align: top;\n",
       "    }\n",
       "</style>\n",
       "<table border=\"1\" class=\"dataframe\">\n",
       "  <thead>\n",
       "    <tr style=\"text-align: right;\">\n",
       "      <th></th>\n",
       "      <th>state</th>\n",
       "      <th>percentage_owning_guns</th>\n",
       "    </tr>\n",
       "  </thead>\n",
       "  <tbody>\n",
       "    <tr>\n",
       "      <th>0</th>\n",
       "      <td>Wyoming</td>\n",
       "      <td>0.60</td>\n",
       "    </tr>\n",
       "    <tr>\n",
       "      <th>1</th>\n",
       "      <td>Alaska</td>\n",
       "      <td>0.58</td>\n",
       "    </tr>\n",
       "    <tr>\n",
       "      <th>2</th>\n",
       "      <td>Montana</td>\n",
       "      <td>0.58</td>\n",
       "    </tr>\n",
       "    <tr>\n",
       "      <th>3</th>\n",
       "      <td>South Dakota</td>\n",
       "      <td>0.57</td>\n",
       "    </tr>\n",
       "    <tr>\n",
       "      <th>4</th>\n",
       "      <td>West Virginia</td>\n",
       "      <td>0.55</td>\n",
       "    </tr>\n",
       "  </tbody>\n",
       "</table>\n",
       "</div>"
      ],
      "text/plain": [
       "             state  percentage_owning_guns\n",
       "0         Wyoming                     0.60\n",
       "1          Alaska                     0.58\n",
       "2         Montana                     0.58\n",
       "3    South Dakota                     0.57\n",
       "4   West Virginia                     0.55"
      ]
     },
     "execution_count": 25,
     "metadata": {},
     "output_type": "execute_result"
    }
   ],
   "source": [
    "gun_ownsership_df = pd.read_csv('gun_ownership_state.csv', encoding='latin-1')\n",
    "gun_ownsership_df.head()"
   ]
  },
  {
   "cell_type": "code",
   "execution_count": 26,
   "metadata": {},
   "outputs": [],
   "source": [
    "gun_owners_state=gun_ownsership_df.set_index('state').to_dict()"
   ]
  },
  {
   "cell_type": "code",
   "execution_count": 27,
   "metadata": {},
   "outputs": [],
   "source": [
    "gun_owners_state_dict=gun_owners_state['percentage_owning_guns']"
   ]
  },
  {
   "cell_type": "code",
   "execution_count": 28,
   "metadata": {},
   "outputs": [
    {
     "data": {
      "text/plain": [
       "{' Alabama ': 0.52000000000000002,\n",
       " ' Alaska ': 0.57999999999999996,\n",
       " ' Arizona ': 0.31,\n",
       " ' Arkansas ': 0.55000000000000004,\n",
       " ' California ': 0.20999999999999999,\n",
       " ' Colorado ': 0.34999999999999998,\n",
       " ' Connecticut ': 0.17000000000000001,\n",
       " ' Delaware ': 0.26000000000000001,\n",
       " ' Florida ': 0.25,\n",
       " ' Georgia ': 0.40000000000000002,\n",
       " ' Hawaii ': 0.070000000000000007,\n",
       " ' Idaho ': 0.55000000000000004,\n",
       " ' Illinois ': 0.20000000000000001,\n",
       " ' Indiana ': 0.39000000000000001,\n",
       " ' Iowa ': 0.42999999999999999,\n",
       " ' Kansas ': 0.41999999999999998,\n",
       " ' Kentucky ': 0.47999999999999998,\n",
       " ' Louisiana ': 0.44,\n",
       " ' Maine ': 0.40999999999999998,\n",
       " ' Maryland ': 0.20999999999999999,\n",
       " ' Massachusetts ': 0.13,\n",
       " ' Michigan ': 0.38,\n",
       " ' Minnesota ': 0.41999999999999998,\n",
       " ' Mississippi ': 0.55000000000000004,\n",
       " ' Missouri ': 0.41999999999999998,\n",
       " ' Montana ': 0.57999999999999996,\n",
       " ' Nebraska ': 0.39000000000000001,\n",
       " ' Nevada ': 0.34000000000000002,\n",
       " ' New Hampshire ': 0.29999999999999999,\n",
       " ' New Jersey ': 0.12,\n",
       " ' New Mexico ': 0.34999999999999998,\n",
       " ' New York ': 0.17999999999999999,\n",
       " ' North Carolina ': 0.40999999999999998,\n",
       " ' North Dakota ': 0.51000000000000001,\n",
       " ' Ohio ': 0.32000000000000001,\n",
       " ' Oklahoma ': 0.42999999999999999,\n",
       " ' Oregon ': 0.40000000000000002,\n",
       " ' Pennsylvania ': 0.34999999999999998,\n",
       " ' Rhode Island ': 0.13,\n",
       " ' South Carolina ': 0.41999999999999998,\n",
       " ' South Dakota ': 0.56999999999999995,\n",
       " ' Tennessee ': 0.44,\n",
       " ' Texas ': 0.35999999999999999,\n",
       " ' Utah ': 0.44,\n",
       " ' Vermont ': 0.41999999999999998,\n",
       " ' Virginia ': 0.34999999999999998,\n",
       " ' Washington ': 0.33000000000000002,\n",
       " ' West Virginia ': 0.55000000000000004,\n",
       " ' Wisconsin ': 0.44,\n",
       " ' Wyoming ': 0.59999999999999998}"
      ]
     },
     "execution_count": 28,
     "metadata": {},
     "output_type": "execute_result"
    }
   ],
   "source": [
    "gun_owners_state_dict"
   ]
  },
  {
   "cell_type": "code",
   "execution_count": 29,
   "metadata": {},
   "outputs": [
    {
     "data": {
      "text/plain": [
       "[0.59999999999999998,\n",
       " 0.57999999999999996,\n",
       " 0.57999999999999996,\n",
       " 0.56999999999999995,\n",
       " 0.55000000000000004,\n",
       " 0.55000000000000004,\n",
       " 0.55000000000000004,\n",
       " 0.55000000000000004,\n",
       " 0.52000000000000002,\n",
       " 0.51000000000000001,\n",
       " 0.47999999999999998,\n",
       " 0.44,\n",
       " 0.44,\n",
       " 0.44,\n",
       " 0.44,\n",
       " 0.42999999999999999,\n",
       " 0.42999999999999999,\n",
       " 0.41999999999999998,\n",
       " 0.41999999999999998,\n",
       " 0.41999999999999998,\n",
       " 0.41999999999999998,\n",
       " 0.41999999999999998,\n",
       " 0.40999999999999998,\n",
       " 0.40999999999999998,\n",
       " 0.40000000000000002,\n",
       " 0.40000000000000002,\n",
       " 0.39000000000000001,\n",
       " 0.39000000000000001,\n",
       " 0.38,\n",
       " 0.35999999999999999,\n",
       " 0.34999999999999998,\n",
       " 0.34999999999999998,\n",
       " 0.34999999999999998,\n",
       " 0.34999999999999998,\n",
       " 0.34000000000000002,\n",
       " 0.33000000000000002,\n",
       " 0.32000000000000001,\n",
       " 0.31,\n",
       " 0.29999999999999999,\n",
       " 0.26000000000000001,\n",
       " 0.25,\n",
       " 0.20999999999999999,\n",
       " 0.20999999999999999,\n",
       " 0.20000000000000001,\n",
       " 0.17999999999999999,\n",
       " 0.17000000000000001,\n",
       " 0.13,\n",
       " 0.13,\n",
       " 0.12,\n",
       " 0.070000000000000007]"
      ]
     },
     "execution_count": 29,
     "metadata": {},
     "output_type": "execute_result"
    }
   ],
   "source": [
    "list(gun_owners_state_dict.values())\n",
    " \n",
    "# list(gun_owners_state_dict.keys())\n",
    "\n"
   ]
  },
  {
   "cell_type": "code",
   "execution_count": null,
   "metadata": {
    "collapsed": true
   },
   "outputs": [],
   "source": []
  },
  {
   "cell_type": "code",
   "execution_count": null,
   "metadata": {
    "collapsed": true
   },
   "outputs": [],
   "source": []
  }
 ],
 "metadata": {
  "kernelspec": {
   "display_name": "Python 3",
   "language": "python",
   "name": "python3"
  },
  "language_info": {
   "codemirror_mode": {
    "name": "ipython",
    "version": 3
   },
   "file_extension": ".py",
   "mimetype": "text/x-python",
   "name": "python",
   "nbconvert_exporter": "python",
   "pygments_lexer": "ipython3",
   "version": "3.6.3"
  }
 },
 "nbformat": 4,
 "nbformat_minor": 2
}
